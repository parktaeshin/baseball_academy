{
  "nbformat": 4,
  "nbformat_minor": 0,
  "metadata": {
    "colab": {
      "name": "Untitled0.ipynb",
      "provenance": [],
      "mount_file_id": "1JRlkVLa-4t5vo1ST2H1bKtRBBgAnTrir",
      "authorship_tag": "ABX9TyOcprw640fJln8RdH/YxvfF",
      "include_colab_link": true
    },
    "kernelspec": {
      "name": "python3",
      "display_name": "Python 3"
    },
    "language_info": {
      "name": "python"
    }
  },
  "cells": [
    {
      "cell_type": "markdown",
      "metadata": {
        "id": "view-in-github",
        "colab_type": "text"
      },
      "source": [
        "<a href=\"https://colab.research.google.com/github/parktaeshin/baseball_academy/blob/main/Untitled0.ipynb\" target=\"_parent\"><img src=\"https://colab.research.google.com/assets/colab-badge.svg\" alt=\"Open In Colab\"/></a>"
      ]
    },
    {
      "cell_type": "code",
      "execution_count": 1,
      "metadata": {
        "id": "bTjUMzI_aM6z"
      },
      "outputs": [],
      "source": [
        "import numpy as np\n",
        "import pandas as pd"
      ]
    },
    {
      "cell_type": "code",
      "source": [
        "pd.set_option('display.max_columns', None) # 컬럼 수가 많으므로 요약되어 표시되지 않게 함"
      ],
      "metadata": {
        "id": "u5_JIP8nm9hB"
      },
      "execution_count": 2,
      "outputs": []
    },
    {
      "cell_type": "code",
      "source": [
        "df = pd.read_excel(\"/content/drive/MyDrive/야구아카데미/1주차/data.xlsx\",engine = \"openpyxl\")"
      ],
      "metadata": {
        "id": "DfiZUnxvaRpQ"
      },
      "execution_count": 3,
      "outputs": []
    },
    {
      "cell_type": "code",
      "source": [
        "result = pd.read_excel(\"/content/drive/MyDrive/야구아카데미/1주차/result.xlsx\", engine = \"openpyxl\")\n",
        "result"
      ],
      "metadata": {
        "colab": {
          "base_uri": "https://localhost:8080/",
          "height": 113
        },
        "id": "1_rFzZidecsB",
        "outputId": "f82bc5ce-c938-4e0c-b7f1-96f5b753e5e1"
      },
      "execution_count": 4,
      "outputs": [
        {
          "output_type": "execute_result",
          "data": {
            "text/plain": [
              "Empty DataFrame\n",
              "Columns: [Int_Year, Int_Month, Int_Day, Str_Opp.Team, Int_Inning, Int_InningTopOrBottom, Str_Pitcher, Int_BattingOrder, Str_Batter, int_batter_no, Cnt_strike, Cnt_ball, Str_Result, Str_IncludeError, Str_Defender, Int_BeforeCntOut, Int_BeforeOnBase, Int_BeforeHomeScore, Int_BeforeAwayScore, Int_AfterCntOut, Int_AfterOnBase, Int_AfterHomeScore, Int_AfterAwayScore, IntStar_Dif.HomeScore, IntStar_Dif.AwayScore, Sum_Score]\n",
              "Index: []"
            ],
            "text/html": [
              "\n",
              "  <div id=\"df-0c4ad8e3-387d-4fa8-b4f4-b6aab7c53748\">\n",
              "    <div class=\"colab-df-container\">\n",
              "      <div>\n",
              "<style scoped>\n",
              "    .dataframe tbody tr th:only-of-type {\n",
              "        vertical-align: middle;\n",
              "    }\n",
              "\n",
              "    .dataframe tbody tr th {\n",
              "        vertical-align: top;\n",
              "    }\n",
              "\n",
              "    .dataframe thead th {\n",
              "        text-align: right;\n",
              "    }\n",
              "</style>\n",
              "<table border=\"1\" class=\"dataframe\">\n",
              "  <thead>\n",
              "    <tr style=\"text-align: right;\">\n",
              "      <th></th>\n",
              "      <th>Int_Year</th>\n",
              "      <th>Int_Month</th>\n",
              "      <th>Int_Day</th>\n",
              "      <th>Str_Opp.Team</th>\n",
              "      <th>Int_Inning</th>\n",
              "      <th>Int_InningTopOrBottom</th>\n",
              "      <th>Str_Pitcher</th>\n",
              "      <th>Int_BattingOrder</th>\n",
              "      <th>Str_Batter</th>\n",
              "      <th>int_batter_no</th>\n",
              "      <th>Cnt_strike</th>\n",
              "      <th>Cnt_ball</th>\n",
              "      <th>Str_Result</th>\n",
              "      <th>Str_IncludeError</th>\n",
              "      <th>Str_Defender</th>\n",
              "      <th>Int_BeforeCntOut</th>\n",
              "      <th>Int_BeforeOnBase</th>\n",
              "      <th>Int_BeforeHomeScore</th>\n",
              "      <th>Int_BeforeAwayScore</th>\n",
              "      <th>Int_AfterCntOut</th>\n",
              "      <th>Int_AfterOnBase</th>\n",
              "      <th>Int_AfterHomeScore</th>\n",
              "      <th>Int_AfterAwayScore</th>\n",
              "      <th>IntStar_Dif.HomeScore</th>\n",
              "      <th>IntStar_Dif.AwayScore</th>\n",
              "      <th>Sum_Score</th>\n",
              "    </tr>\n",
              "  </thead>\n",
              "  <tbody>\n",
              "  </tbody>\n",
              "</table>\n",
              "</div>\n",
              "      <button class=\"colab-df-convert\" onclick=\"convertToInteractive('df-0c4ad8e3-387d-4fa8-b4f4-b6aab7c53748')\"\n",
              "              title=\"Convert this dataframe to an interactive table.\"\n",
              "              style=\"display:none;\">\n",
              "        \n",
              "  <svg xmlns=\"http://www.w3.org/2000/svg\" height=\"24px\"viewBox=\"0 0 24 24\"\n",
              "       width=\"24px\">\n",
              "    <path d=\"M0 0h24v24H0V0z\" fill=\"none\"/>\n",
              "    <path d=\"M18.56 5.44l.94 2.06.94-2.06 2.06-.94-2.06-.94-.94-2.06-.94 2.06-2.06.94zm-11 1L8.5 8.5l.94-2.06 2.06-.94-2.06-.94L8.5 2.5l-.94 2.06-2.06.94zm10 10l.94 2.06.94-2.06 2.06-.94-2.06-.94-.94-2.06-.94 2.06-2.06.94z\"/><path d=\"M17.41 7.96l-1.37-1.37c-.4-.4-.92-.59-1.43-.59-.52 0-1.04.2-1.43.59L10.3 9.45l-7.72 7.72c-.78.78-.78 2.05 0 2.83L4 21.41c.39.39.9.59 1.41.59.51 0 1.02-.2 1.41-.59l7.78-7.78 2.81-2.81c.8-.78.8-2.07 0-2.86zM5.41 20L4 18.59l7.72-7.72 1.47 1.35L5.41 20z\"/>\n",
              "  </svg>\n",
              "      </button>\n",
              "      \n",
              "  <style>\n",
              "    .colab-df-container {\n",
              "      display:flex;\n",
              "      flex-wrap:wrap;\n",
              "      gap: 12px;\n",
              "    }\n",
              "\n",
              "    .colab-df-convert {\n",
              "      background-color: #E8F0FE;\n",
              "      border: none;\n",
              "      border-radius: 50%;\n",
              "      cursor: pointer;\n",
              "      display: none;\n",
              "      fill: #1967D2;\n",
              "      height: 32px;\n",
              "      padding: 0 0 0 0;\n",
              "      width: 32px;\n",
              "    }\n",
              "\n",
              "    .colab-df-convert:hover {\n",
              "      background-color: #E2EBFA;\n",
              "      box-shadow: 0px 1px 2px rgba(60, 64, 67, 0.3), 0px 1px 3px 1px rgba(60, 64, 67, 0.15);\n",
              "      fill: #174EA6;\n",
              "    }\n",
              "\n",
              "    [theme=dark] .colab-df-convert {\n",
              "      background-color: #3B4455;\n",
              "      fill: #D2E3FC;\n",
              "    }\n",
              "\n",
              "    [theme=dark] .colab-df-convert:hover {\n",
              "      background-color: #434B5C;\n",
              "      box-shadow: 0px 1px 3px 1px rgba(0, 0, 0, 0.15);\n",
              "      filter: drop-shadow(0px 1px 2px rgba(0, 0, 0, 0.3));\n",
              "      fill: #FFFFFF;\n",
              "    }\n",
              "  </style>\n",
              "\n",
              "      <script>\n",
              "        const buttonEl =\n",
              "          document.querySelector('#df-0c4ad8e3-387d-4fa8-b4f4-b6aab7c53748 button.colab-df-convert');\n",
              "        buttonEl.style.display =\n",
              "          google.colab.kernel.accessAllowed ? 'block' : 'none';\n",
              "\n",
              "        async function convertToInteractive(key) {\n",
              "          const element = document.querySelector('#df-0c4ad8e3-387d-4fa8-b4f4-b6aab7c53748');\n",
              "          const dataTable =\n",
              "            await google.colab.kernel.invokeFunction('convertToInteractive',\n",
              "                                                     [key], {});\n",
              "          if (!dataTable) return;\n",
              "\n",
              "          const docLinkHtml = 'Like what you see? Visit the ' +\n",
              "            '<a target=\"_blank\" href=https://colab.research.google.com/notebooks/data_table.ipynb>data table notebook</a>'\n",
              "            + ' to learn more about interactive tables.';\n",
              "          element.innerHTML = '';\n",
              "          dataTable['output_type'] = 'display_data';\n",
              "          await google.colab.output.renderOutput(dataTable, element);\n",
              "          const docLink = document.createElement('div');\n",
              "          docLink.innerHTML = docLinkHtml;\n",
              "          element.appendChild(docLink);\n",
              "        }\n",
              "      </script>\n",
              "    </div>\n",
              "  </div>\n",
              "  "
            ]
          },
          "metadata": {},
          "execution_count": 4
        }
      ]
    },
    {
      "cell_type": "code",
      "source": [
        "df.head(2)"
      ],
      "metadata": {
        "colab": {
          "base_uri": "https://localhost:8080/",
          "height": 278
        },
        "id": "zDkTexiTen69",
        "outputId": "a9065669-7ad2-483c-c749-006ceddead79"
      },
      "execution_count": 5,
      "outputs": [
        {
          "output_type": "execute_result",
          "data": {
            "text/plain": [
              "          날짜   팀  이닝   투수       타자                    P       결과       이전상황  \\\n",
              "0 2019-03-23  한화  2말  서폴드  6 페르난데스  2019-01-03 00:00:00  2루수 병살타  무사 1루 0:0   \n",
              "1 2019-03-23  한화  4말  서폴드  6 페르난데스  2019-01-02 00:00:00   유격수 땅볼     2사 1:2   \n",
              "\n",
              "       이후상황 이전상황.1 Unnamed: 10 Unnamed: 11     결과.1 Unnamed: 13 Unnamed: 14  \\\n",
              "0    2사 0:0     무사          1루         0:0  2루수 병살타     2루수 병살타         NaN   \n",
              "1  이닝종료 1:2     2사         1:2         NaN   유격수 땅볼      유격수 땅볼         NaN   \n",
              "\n",
              "   Unnamed: 15 Unnamed: 16 Unnamed: 17 Unnamed: 18 Unnamed: 19 Unnamed: 20  \n",
              "0          NaN     2루수 병살타         2루수         병살타         NaN         NaN  \n",
              "1          NaN      유격수 땅볼         유격수          땅볼         NaN         NaN  "
            ],
            "text/html": [
              "\n",
              "  <div id=\"df-0a7e19fd-c2f9-4978-afee-d9c5a018188f\">\n",
              "    <div class=\"colab-df-container\">\n",
              "      <div>\n",
              "<style scoped>\n",
              "    .dataframe tbody tr th:only-of-type {\n",
              "        vertical-align: middle;\n",
              "    }\n",
              "\n",
              "    .dataframe tbody tr th {\n",
              "        vertical-align: top;\n",
              "    }\n",
              "\n",
              "    .dataframe thead th {\n",
              "        text-align: right;\n",
              "    }\n",
              "</style>\n",
              "<table border=\"1\" class=\"dataframe\">\n",
              "  <thead>\n",
              "    <tr style=\"text-align: right;\">\n",
              "      <th></th>\n",
              "      <th>날짜</th>\n",
              "      <th>팀</th>\n",
              "      <th>이닝</th>\n",
              "      <th>투수</th>\n",
              "      <th>타자</th>\n",
              "      <th>P</th>\n",
              "      <th>결과</th>\n",
              "      <th>이전상황</th>\n",
              "      <th>이후상황</th>\n",
              "      <th>이전상황.1</th>\n",
              "      <th>Unnamed: 10</th>\n",
              "      <th>Unnamed: 11</th>\n",
              "      <th>결과.1</th>\n",
              "      <th>Unnamed: 13</th>\n",
              "      <th>Unnamed: 14</th>\n",
              "      <th>Unnamed: 15</th>\n",
              "      <th>Unnamed: 16</th>\n",
              "      <th>Unnamed: 17</th>\n",
              "      <th>Unnamed: 18</th>\n",
              "      <th>Unnamed: 19</th>\n",
              "      <th>Unnamed: 20</th>\n",
              "    </tr>\n",
              "  </thead>\n",
              "  <tbody>\n",
              "    <tr>\n",
              "      <th>0</th>\n",
              "      <td>2019-03-23</td>\n",
              "      <td>한화</td>\n",
              "      <td>2말</td>\n",
              "      <td>서폴드</td>\n",
              "      <td>6 페르난데스</td>\n",
              "      <td>2019-01-03 00:00:00</td>\n",
              "      <td>2루수 병살타</td>\n",
              "      <td>무사 1루 0:0</td>\n",
              "      <td>2사 0:0</td>\n",
              "      <td>무사</td>\n",
              "      <td>1루</td>\n",
              "      <td>0:0</td>\n",
              "      <td>2루수 병살타</td>\n",
              "      <td>2루수 병살타</td>\n",
              "      <td>NaN</td>\n",
              "      <td>NaN</td>\n",
              "      <td>2루수 병살타</td>\n",
              "      <td>2루수</td>\n",
              "      <td>병살타</td>\n",
              "      <td>NaN</td>\n",
              "      <td>NaN</td>\n",
              "    </tr>\n",
              "    <tr>\n",
              "      <th>1</th>\n",
              "      <td>2019-03-23</td>\n",
              "      <td>한화</td>\n",
              "      <td>4말</td>\n",
              "      <td>서폴드</td>\n",
              "      <td>6 페르난데스</td>\n",
              "      <td>2019-01-02 00:00:00</td>\n",
              "      <td>유격수 땅볼</td>\n",
              "      <td>2사 1:2</td>\n",
              "      <td>이닝종료 1:2</td>\n",
              "      <td>2사</td>\n",
              "      <td>1:2</td>\n",
              "      <td>NaN</td>\n",
              "      <td>유격수 땅볼</td>\n",
              "      <td>유격수 땅볼</td>\n",
              "      <td>NaN</td>\n",
              "      <td>NaN</td>\n",
              "      <td>유격수 땅볼</td>\n",
              "      <td>유격수</td>\n",
              "      <td>땅볼</td>\n",
              "      <td>NaN</td>\n",
              "      <td>NaN</td>\n",
              "    </tr>\n",
              "  </tbody>\n",
              "</table>\n",
              "</div>\n",
              "      <button class=\"colab-df-convert\" onclick=\"convertToInteractive('df-0a7e19fd-c2f9-4978-afee-d9c5a018188f')\"\n",
              "              title=\"Convert this dataframe to an interactive table.\"\n",
              "              style=\"display:none;\">\n",
              "        \n",
              "  <svg xmlns=\"http://www.w3.org/2000/svg\" height=\"24px\"viewBox=\"0 0 24 24\"\n",
              "       width=\"24px\">\n",
              "    <path d=\"M0 0h24v24H0V0z\" fill=\"none\"/>\n",
              "    <path d=\"M18.56 5.44l.94 2.06.94-2.06 2.06-.94-2.06-.94-.94-2.06-.94 2.06-2.06.94zm-11 1L8.5 8.5l.94-2.06 2.06-.94-2.06-.94L8.5 2.5l-.94 2.06-2.06.94zm10 10l.94 2.06.94-2.06 2.06-.94-2.06-.94-.94-2.06-.94 2.06-2.06.94z\"/><path d=\"M17.41 7.96l-1.37-1.37c-.4-.4-.92-.59-1.43-.59-.52 0-1.04.2-1.43.59L10.3 9.45l-7.72 7.72c-.78.78-.78 2.05 0 2.83L4 21.41c.39.39.9.59 1.41.59.51 0 1.02-.2 1.41-.59l7.78-7.78 2.81-2.81c.8-.78.8-2.07 0-2.86zM5.41 20L4 18.59l7.72-7.72 1.47 1.35L5.41 20z\"/>\n",
              "  </svg>\n",
              "      </button>\n",
              "      \n",
              "  <style>\n",
              "    .colab-df-container {\n",
              "      display:flex;\n",
              "      flex-wrap:wrap;\n",
              "      gap: 12px;\n",
              "    }\n",
              "\n",
              "    .colab-df-convert {\n",
              "      background-color: #E8F0FE;\n",
              "      border: none;\n",
              "      border-radius: 50%;\n",
              "      cursor: pointer;\n",
              "      display: none;\n",
              "      fill: #1967D2;\n",
              "      height: 32px;\n",
              "      padding: 0 0 0 0;\n",
              "      width: 32px;\n",
              "    }\n",
              "\n",
              "    .colab-df-convert:hover {\n",
              "      background-color: #E2EBFA;\n",
              "      box-shadow: 0px 1px 2px rgba(60, 64, 67, 0.3), 0px 1px 3px 1px rgba(60, 64, 67, 0.15);\n",
              "      fill: #174EA6;\n",
              "    }\n",
              "\n",
              "    [theme=dark] .colab-df-convert {\n",
              "      background-color: #3B4455;\n",
              "      fill: #D2E3FC;\n",
              "    }\n",
              "\n",
              "    [theme=dark] .colab-df-convert:hover {\n",
              "      background-color: #434B5C;\n",
              "      box-shadow: 0px 1px 3px 1px rgba(0, 0, 0, 0.15);\n",
              "      filter: drop-shadow(0px 1px 2px rgba(0, 0, 0, 0.3));\n",
              "      fill: #FFFFFF;\n",
              "    }\n",
              "  </style>\n",
              "\n",
              "      <script>\n",
              "        const buttonEl =\n",
              "          document.querySelector('#df-0a7e19fd-c2f9-4978-afee-d9c5a018188f button.colab-df-convert');\n",
              "        buttonEl.style.display =\n",
              "          google.colab.kernel.accessAllowed ? 'block' : 'none';\n",
              "\n",
              "        async function convertToInteractive(key) {\n",
              "          const element = document.querySelector('#df-0a7e19fd-c2f9-4978-afee-d9c5a018188f');\n",
              "          const dataTable =\n",
              "            await google.colab.kernel.invokeFunction('convertToInteractive',\n",
              "                                                     [key], {});\n",
              "          if (!dataTable) return;\n",
              "\n",
              "          const docLinkHtml = 'Like what you see? Visit the ' +\n",
              "            '<a target=\"_blank\" href=https://colab.research.google.com/notebooks/data_table.ipynb>data table notebook</a>'\n",
              "            + ' to learn more about interactive tables.';\n",
              "          element.innerHTML = '';\n",
              "          dataTable['output_type'] = 'display_data';\n",
              "          await google.colab.output.renderOutput(dataTable, element);\n",
              "          const docLink = document.createElement('div');\n",
              "          docLink.innerHTML = docLinkHtml;\n",
              "          element.appendChild(docLink);\n",
              "        }\n",
              "      </script>\n",
              "    </div>\n",
              "  </div>\n",
              "  "
            ]
          },
          "metadata": {},
          "execution_count": 5
        }
      ]
    },
    {
      "cell_type": "code",
      "source": [
        "df.info()"
      ],
      "metadata": {
        "colab": {
          "base_uri": "https://localhost:8080/"
        },
        "id": "0wlXuJohe1k9",
        "outputId": "82d69268-a9fd-401a-b90f-7ded88705297"
      },
      "execution_count": 6,
      "outputs": [
        {
          "output_type": "stream",
          "name": "stdout",
          "text": [
            "<class 'pandas.core.frame.DataFrame'>\n",
            "RangeIndex: 56666 entries, 0 to 56665\n",
            "Data columns (total 21 columns):\n",
            " #   Column       Non-Null Count  Dtype         \n",
            "---  ------       --------------  -----         \n",
            " 0   날짜           56666 non-null  datetime64[ns]\n",
            " 1   팀            56666 non-null  object        \n",
            " 2   이닝           56666 non-null  object        \n",
            " 3   투수           56666 non-null  object        \n",
            " 4   타자           56666 non-null  object        \n",
            " 5   P            56562 non-null  object        \n",
            " 6   결과           56666 non-null  object        \n",
            " 7   이전상황         56665 non-null  object        \n",
            " 8   이후상황         56665 non-null  object        \n",
            " 9   이전상황.1       56665 non-null  object        \n",
            " 10  Unnamed: 10  56665 non-null  object        \n",
            " 11  Unnamed: 11  26673 non-null  object        \n",
            " 12  결과.1         56666 non-null  object        \n",
            " 13  Unnamed: 13  46723 non-null  object        \n",
            " 14  Unnamed: 14  9943 non-null   object        \n",
            " 15  Unnamed: 15  0 non-null      float64       \n",
            " 16  Unnamed: 16  56666 non-null  object        \n",
            " 17  Unnamed: 17  46001 non-null  object        \n",
            " 18  Unnamed: 18  50938 non-null  object        \n",
            " 19  Unnamed: 19  2702 non-null   object        \n",
            " 20  Unnamed: 20  1104 non-null   object        \n",
            "dtypes: datetime64[ns](1), float64(1), object(19)\n",
            "memory usage: 9.1+ MB\n"
          ]
        }
      ]
    },
    {
      "cell_type": "code",
      "source": [
        "# Int_Year, Int_Month, Int_Day\n",
        "\n",
        "result[\"Int_Year\"] = df[\"날짜\"].apply(lambda x : x.year)\n",
        "result[\"Int_Month\"] = df[\"날짜\"].apply(lambda x : x.month)\n",
        "result[\"Int_Day\"] = df[\"날짜\"].apply(lambda x : x.day)"
      ],
      "metadata": {
        "id": "fZIkymbKgxth"
      },
      "execution_count": 7,
      "outputs": []
    },
    {
      "cell_type": "code",
      "source": [
        "# Str_Opp.Team\n",
        "\n",
        "result[\"Str_Opp.Team\"] = df[\"팀\"]"
      ],
      "metadata": {
        "id": "E4Acw_Hlgxo9"
      },
      "execution_count": 8,
      "outputs": []
    },
    {
      "cell_type": "code",
      "source": [
        "# Int_Inning\n",
        "\n",
        "result[\"Int_Inning\"] = df[\"이닝\"].apply(lambda x : x[0])"
      ],
      "metadata": {
        "id": "VnSEzp2IiGWR"
      },
      "execution_count": 9,
      "outputs": []
    },
    {
      "cell_type": "code",
      "source": [
        "# Int_InningTopOrBottom\n",
        "\n",
        "result[\"Int_InningTopOrBottom\"] = df[\"이닝\"].apply(lambda x : x[1])"
      ],
      "metadata": {
        "id": "y__K4s5XijCH"
      },
      "execution_count": 10,
      "outputs": []
    },
    {
      "cell_type": "code",
      "source": [
        "# Str_pitcher\n",
        "\n",
        "result[\"Str_Pitcher\"] = df[\"투수\"]"
      ],
      "metadata": {
        "id": "x9ZA6GgLi6Iv"
      },
      "execution_count": 11,
      "outputs": []
    },
    {
      "cell_type": "code",
      "source": [
        "# Int_BattingOrder\n",
        "\n",
        "result[\"Int_BattingOrder\"] = df[\"타자\"].apply(lambda x : x.split()[0])"
      ],
      "metadata": {
        "id": "Lc77o3eBjWhU"
      },
      "execution_count": 12,
      "outputs": []
    },
    {
      "cell_type": "code",
      "source": [
        "# Str_Batter\n",
        "\n",
        "result[\"Str_Batter\"] = df[\"타자\"].apply(lambda x : x.split()[1])"
      ],
      "metadata": {
        "id": "ngjmtpUEkoz-"
      },
      "execution_count": 13,
      "outputs": []
    },
    {
      "cell_type": "code",
      "source": [
        "# int_batter_no\n",
        "\n",
        "int_batter_no_dict = pd.DataFrame(df[\"타자\"].apply(lambda x : x.split()[1]).unique()).to_dict()[0]  #\n",
        "int_batter_no_dict = {v:k for k,v in int_batter_no_dict.items()}\n",
        "result[\"int_batter_no\"] = df[\"타자\"].apply(lambda x : x.split()[1]).map(int_batter_no_dict)+1\n",
        "\n",
        "# 노시환 112 , 채태인 114 중간에 건너뜀"
      ],
      "metadata": {
        "id": "eIeqvjOFssiv"
      },
      "execution_count": 14,
      "outputs": []
    },
    {
      "cell_type": "code",
      "source": [
        "# Cnt_strike"
      ],
      "metadata": {
        "id": "v-ZkuLcgvaoN"
      },
      "execution_count": 15,
      "outputs": []
    },
    {
      "cell_type": "code",
      "source": [
        "# Str_Result"
      ],
      "metadata": {
        "id": "ELr0PaEHvamM"
      },
      "execution_count": 16,
      "outputs": []
    },
    {
      "cell_type": "code",
      "source": [
        "# Str_IncludeError\n",
        "for i in range(0,len(df)):\n",
        "  if \"실책\" in df[\"결과\"].apply(lambda x : str(x))[i] :\n",
        "    result.loc[i,\"Str_IncludeError\"] = \"실책\"\n",
        "  else : \n",
        "    result.loc[i,\"Str_IncludeError\"] = None\n",
        "\n",
        "# 11분 5초..."
      ],
      "metadata": {
        "id": "Ut1uQ8kDsQvb"
      },
      "execution_count": 53,
      "outputs": []
    },
    {
      "cell_type": "code",
      "source": [
        "# Str_Defender\n",
        "\n",
        "defender_list = [\"1루수\",\"2루수\",\"3루수\",\"유격수\",\"투수\",\"포수\",\"좌익수\",\"우익수\",\"중견수\"]\n",
        "\n",
        "for i in range(0,len(df)):\n",
        "  if df[\"결과\"].apply(lambda x : x.split()[0])[i] in defender_list :\n",
        "    result.loc[i,\"Str_Defender\"] = df[\"결과\"].apply(lambda x : x.split()[0])[i]\n",
        "  else :\n",
        "    result.loc[i,\"Str_Defender\"] = None\n",
        "\n",
        "# 40분"
      ],
      "metadata": {
        "id": "aptI2mG9DXg6"
      },
      "execution_count": 70,
      "outputs": []
    },
    {
      "cell_type": "code",
      "source": [
        "# result.to_excel(\"/content/drive/MyDrive/야구아카데미/1주차/backup.xlsx\")\n",
        "# backup = pd.read_excel(\"/content/drive/MyDrive/야구아카데미/1주차/backup.xlsx\", engine = \"openpyxl\")"
      ],
      "metadata": {
        "id": "QiCks3wmJBo2"
      },
      "execution_count": 71,
      "outputs": []
    },
    {
      "cell_type": "code",
      "source": [
        "# Int_BeforeCntOut 결과 전 아웃 카운트\n",
        "\n",
        "out_dict = {\"무사\" : 0,\n",
        "            \"1사\" : 1,\n",
        "            \"2사\" : 2}\n",
        "\n",
        "result[\"Int_BeforeCntOut\"] = df[\"이전상황\"].astype(str).apply(lambda x : x.split()[0]).map(out_dict)\n",
        "\n",
        "         "
      ],
      "metadata": {
        "id": "8qVug8BdTeaW"
      },
      "execution_count": 79,
      "outputs": []
    },
    {
      "cell_type": "code",
      "source": [
        "# Int_BeforeOnBase 결과 전 베이스 현황 \n",
        "# 없음 = 0, 1루 = 1, 2루 = 2, 3루 = 3, 12루 = 12, 13루 = 13, 23루 = 23, 만루 = 123\n",
        "\n",
        "before_dict = {\"1루\" : 1, \"2루\" : 2, \"3루\" : 3, \"1,2루\" : 12, \"1,3루\" : 13, \"2,3루\" : 23, \"만루\" : 123}\n",
        "\n",
        "result[\"Int_BeforeOnBase\"] = df[\"Unnamed: 10\"].map(before_dict)\n",
        "result[\"Int_BeforeOnBase\"].fillna(0, inplace = True)\n",
        "\n",
        "#df[\"이전상황\"].astype(str).apply(lambda x : x.split()).apply(lambda x : len(x) == 1)\n",
        "#df.loc[df[\"이전상황\"].astype(str).apply(lambda x : x.split()).apply(lambda x : len(x) == 1)]"
      ],
      "metadata": {
        "id": "IDtAHy6ZTeYF"
      },
      "execution_count": 116,
      "outputs": []
    },
    {
      "cell_type": "code",
      "source": [
        "# Int_BeforeHomeScore 결과 전 홈 점수 현황(홈=투수)\n",
        "\n",
        "result[\"Int_BeforeHomeScore\"] = df[\"이전상황\"].astype(str).apply(lambda x : x.split()[-1]).apply(lambda x : x.split(\":\")[0])"
      ],
      "metadata": {
        "id": "VNSDMMs-FFsK"
      },
      "execution_count": 127,
      "outputs": []
    },
    {
      "cell_type": "code",
      "source": [
        "# Int_BeforeAwayScore 결과 전 어웨이 점수 현화(어웨이 = 타자)\n",
        "result[\"Int_BeforeAwayScore\"] = df[\"이전상황\"].astype(str).apply(lambda x : x.split()[-1]).apply(lambda x : x.split(\":\")[-1])"
      ],
      "metadata": {
        "id": "pyokQeftFFkW"
      },
      "execution_count": 140,
      "outputs": []
    },
    {
      "cell_type": "code",
      "source": [
        "# Int_AfterCntOut 결과 이후 아웃 카운트"
      ],
      "metadata": {
        "id": "eZYhgXn0fpbV"
      },
      "execution_count": 141,
      "outputs": []
    },
    {
      "cell_type": "code",
      "source": [
        "# Int_AfterOnBase 결과 이후 베이스 현황"
      ],
      "metadata": {
        "id": "w5XAXlxlgYSj"
      },
      "execution_count": 142,
      "outputs": []
    },
    {
      "cell_type": "code",
      "source": [
        "# Int_AfterHomeScore 결과 이후 홈 점수 현황(홈=투수)"
      ],
      "metadata": {
        "id": "OJ9XevCrgcCv"
      },
      "execution_count": 143,
      "outputs": []
    },
    {
      "cell_type": "code",
      "source": [
        "# Int_AfterAwayScore 결과 이후 어웨이 점수 현황(어웨이 = 타자)"
      ],
      "metadata": {
        "id": "ergwb6VlghYw"
      },
      "execution_count": 144,
      "outputs": []
    },
    {
      "cell_type": "code",
      "source": [
        "# IntStar_Dif.HomeScore 결과 전후 홈 점수 차이"
      ],
      "metadata": {
        "id": "Qc77OWC3gmuJ"
      },
      "execution_count": 145,
      "outputs": []
    },
    {
      "cell_type": "code",
      "source": [
        "# IntStar_Dif.AwayScore 결과 전후 어웨이 점수 차이"
      ],
      "metadata": {
        "id": "qGgK-VVzguoE"
      },
      "execution_count": 146,
      "outputs": []
    },
    {
      "cell_type": "code",
      "source": [
        "# Sum_Score 득점 합(홈 어웨이 상관 없음)"
      ],
      "metadata": {
        "id": "qhJH5a2zgx20"
      },
      "execution_count": 147,
      "outputs": []
    },
    {
      "cell_type": "code",
      "source": [
        "result.head()"
      ],
      "metadata": {
        "colab": {
          "base_uri": "https://localhost:8080/",
          "height": 270
        },
        "id": "LrcnzxuIFFgI",
        "outputId": "2743f0a7-cab5-4d2b-de93-ca45f0b23166"
      },
      "execution_count": 118,
      "outputs": [
        {
          "output_type": "execute_result",
          "data": {
            "text/plain": [
              "   Int_Year  Int_Month  Int_Day Str_Opp.Team Int_Inning Int_InningTopOrBottom  \\\n",
              "0      2019          3       23           한화          2                     말   \n",
              "1      2019          3       23           한화          4                     말   \n",
              "2      2019          3       23           한화          6                     말   \n",
              "3      2019          3       23           한화          8                     말   \n",
              "4      2019          3       24           한화          2                     말   \n",
              "\n",
              "  Str_Pitcher Int_BattingOrder Str_Batter  int_batter_no Cnt_strike Cnt_ball  \\\n",
              "0         서폴드                6      페르난데스              1        NaN      NaN   \n",
              "1         서폴드                6      페르난데스              1        NaN      NaN   \n",
              "2         서폴드                6      페르난데스              1        NaN      NaN   \n",
              "3         이태양                6      페르난데스              1        NaN      NaN   \n",
              "4         채드벨                6      페르난데스              1        NaN      NaN   \n",
              "\n",
              "  Str_Result Str_IncludeError Str_Defender  Int_BeforeCntOut  \\\n",
              "0        NaN             None          2루수               0.0   \n",
              "1        NaN             None          유격수               2.0   \n",
              "2        NaN             None          우익수               2.0   \n",
              "3        NaN               실책          좌익수               2.0   \n",
              "4        NaN             None         None               1.0   \n",
              "\n",
              "   Int_BeforeOnBase Int_BeforeHomeScore Int_BeforeAwayScore Int_AfterCntOut  \\\n",
              "0               1.0                 NaN                 NaN             NaN   \n",
              "1               0.0                 NaN                 NaN             NaN   \n",
              "2              12.0                 NaN                 NaN             NaN   \n",
              "3              12.0                 NaN                 NaN             NaN   \n",
              "4               0.0                 NaN                 NaN             NaN   \n",
              "\n",
              "  Int_AfterOnBase Int_AfterHomeScore Int_AfterAwayScore IntStar_Dif.HomeScore  \\\n",
              "0             NaN                NaN                NaN                   NaN   \n",
              "1             NaN                NaN                NaN                   NaN   \n",
              "2             NaN                NaN                NaN                   NaN   \n",
              "3             NaN                NaN                NaN                   NaN   \n",
              "4             NaN                NaN                NaN                   NaN   \n",
              "\n",
              "  IntStar_Dif.AwayScore Sum_Score  \n",
              "0                   NaN       NaN  \n",
              "1                   NaN       NaN  \n",
              "2                   NaN       NaN  \n",
              "3                   NaN       NaN  \n",
              "4                   NaN       NaN  "
            ],
            "text/html": [
              "\n",
              "  <div id=\"df-dbab4f92-5561-475e-9c19-54640e954f5a\">\n",
              "    <div class=\"colab-df-container\">\n",
              "      <div>\n",
              "<style scoped>\n",
              "    .dataframe tbody tr th:only-of-type {\n",
              "        vertical-align: middle;\n",
              "    }\n",
              "\n",
              "    .dataframe tbody tr th {\n",
              "        vertical-align: top;\n",
              "    }\n",
              "\n",
              "    .dataframe thead th {\n",
              "        text-align: right;\n",
              "    }\n",
              "</style>\n",
              "<table border=\"1\" class=\"dataframe\">\n",
              "  <thead>\n",
              "    <tr style=\"text-align: right;\">\n",
              "      <th></th>\n",
              "      <th>Int_Year</th>\n",
              "      <th>Int_Month</th>\n",
              "      <th>Int_Day</th>\n",
              "      <th>Str_Opp.Team</th>\n",
              "      <th>Int_Inning</th>\n",
              "      <th>Int_InningTopOrBottom</th>\n",
              "      <th>Str_Pitcher</th>\n",
              "      <th>Int_BattingOrder</th>\n",
              "      <th>Str_Batter</th>\n",
              "      <th>int_batter_no</th>\n",
              "      <th>Cnt_strike</th>\n",
              "      <th>Cnt_ball</th>\n",
              "      <th>Str_Result</th>\n",
              "      <th>Str_IncludeError</th>\n",
              "      <th>Str_Defender</th>\n",
              "      <th>Int_BeforeCntOut</th>\n",
              "      <th>Int_BeforeOnBase</th>\n",
              "      <th>Int_BeforeHomeScore</th>\n",
              "      <th>Int_BeforeAwayScore</th>\n",
              "      <th>Int_AfterCntOut</th>\n",
              "      <th>Int_AfterOnBase</th>\n",
              "      <th>Int_AfterHomeScore</th>\n",
              "      <th>Int_AfterAwayScore</th>\n",
              "      <th>IntStar_Dif.HomeScore</th>\n",
              "      <th>IntStar_Dif.AwayScore</th>\n",
              "      <th>Sum_Score</th>\n",
              "    </tr>\n",
              "  </thead>\n",
              "  <tbody>\n",
              "    <tr>\n",
              "      <th>0</th>\n",
              "      <td>2019</td>\n",
              "      <td>3</td>\n",
              "      <td>23</td>\n",
              "      <td>한화</td>\n",
              "      <td>2</td>\n",
              "      <td>말</td>\n",
              "      <td>서폴드</td>\n",
              "      <td>6</td>\n",
              "      <td>페르난데스</td>\n",
              "      <td>1</td>\n",
              "      <td>NaN</td>\n",
              "      <td>NaN</td>\n",
              "      <td>NaN</td>\n",
              "      <td>None</td>\n",
              "      <td>2루수</td>\n",
              "      <td>0.0</td>\n",
              "      <td>1.0</td>\n",
              "      <td>NaN</td>\n",
              "      <td>NaN</td>\n",
              "      <td>NaN</td>\n",
              "      <td>NaN</td>\n",
              "      <td>NaN</td>\n",
              "      <td>NaN</td>\n",
              "      <td>NaN</td>\n",
              "      <td>NaN</td>\n",
              "      <td>NaN</td>\n",
              "    </tr>\n",
              "    <tr>\n",
              "      <th>1</th>\n",
              "      <td>2019</td>\n",
              "      <td>3</td>\n",
              "      <td>23</td>\n",
              "      <td>한화</td>\n",
              "      <td>4</td>\n",
              "      <td>말</td>\n",
              "      <td>서폴드</td>\n",
              "      <td>6</td>\n",
              "      <td>페르난데스</td>\n",
              "      <td>1</td>\n",
              "      <td>NaN</td>\n",
              "      <td>NaN</td>\n",
              "      <td>NaN</td>\n",
              "      <td>None</td>\n",
              "      <td>유격수</td>\n",
              "      <td>2.0</td>\n",
              "      <td>0.0</td>\n",
              "      <td>NaN</td>\n",
              "      <td>NaN</td>\n",
              "      <td>NaN</td>\n",
              "      <td>NaN</td>\n",
              "      <td>NaN</td>\n",
              "      <td>NaN</td>\n",
              "      <td>NaN</td>\n",
              "      <td>NaN</td>\n",
              "      <td>NaN</td>\n",
              "    </tr>\n",
              "    <tr>\n",
              "      <th>2</th>\n",
              "      <td>2019</td>\n",
              "      <td>3</td>\n",
              "      <td>23</td>\n",
              "      <td>한화</td>\n",
              "      <td>6</td>\n",
              "      <td>말</td>\n",
              "      <td>서폴드</td>\n",
              "      <td>6</td>\n",
              "      <td>페르난데스</td>\n",
              "      <td>1</td>\n",
              "      <td>NaN</td>\n",
              "      <td>NaN</td>\n",
              "      <td>NaN</td>\n",
              "      <td>None</td>\n",
              "      <td>우익수</td>\n",
              "      <td>2.0</td>\n",
              "      <td>12.0</td>\n",
              "      <td>NaN</td>\n",
              "      <td>NaN</td>\n",
              "      <td>NaN</td>\n",
              "      <td>NaN</td>\n",
              "      <td>NaN</td>\n",
              "      <td>NaN</td>\n",
              "      <td>NaN</td>\n",
              "      <td>NaN</td>\n",
              "      <td>NaN</td>\n",
              "    </tr>\n",
              "    <tr>\n",
              "      <th>3</th>\n",
              "      <td>2019</td>\n",
              "      <td>3</td>\n",
              "      <td>23</td>\n",
              "      <td>한화</td>\n",
              "      <td>8</td>\n",
              "      <td>말</td>\n",
              "      <td>이태양</td>\n",
              "      <td>6</td>\n",
              "      <td>페르난데스</td>\n",
              "      <td>1</td>\n",
              "      <td>NaN</td>\n",
              "      <td>NaN</td>\n",
              "      <td>NaN</td>\n",
              "      <td>실책</td>\n",
              "      <td>좌익수</td>\n",
              "      <td>2.0</td>\n",
              "      <td>12.0</td>\n",
              "      <td>NaN</td>\n",
              "      <td>NaN</td>\n",
              "      <td>NaN</td>\n",
              "      <td>NaN</td>\n",
              "      <td>NaN</td>\n",
              "      <td>NaN</td>\n",
              "      <td>NaN</td>\n",
              "      <td>NaN</td>\n",
              "      <td>NaN</td>\n",
              "    </tr>\n",
              "    <tr>\n",
              "      <th>4</th>\n",
              "      <td>2019</td>\n",
              "      <td>3</td>\n",
              "      <td>24</td>\n",
              "      <td>한화</td>\n",
              "      <td>2</td>\n",
              "      <td>말</td>\n",
              "      <td>채드벨</td>\n",
              "      <td>6</td>\n",
              "      <td>페르난데스</td>\n",
              "      <td>1</td>\n",
              "      <td>NaN</td>\n",
              "      <td>NaN</td>\n",
              "      <td>NaN</td>\n",
              "      <td>None</td>\n",
              "      <td>None</td>\n",
              "      <td>1.0</td>\n",
              "      <td>0.0</td>\n",
              "      <td>NaN</td>\n",
              "      <td>NaN</td>\n",
              "      <td>NaN</td>\n",
              "      <td>NaN</td>\n",
              "      <td>NaN</td>\n",
              "      <td>NaN</td>\n",
              "      <td>NaN</td>\n",
              "      <td>NaN</td>\n",
              "      <td>NaN</td>\n",
              "    </tr>\n",
              "  </tbody>\n",
              "</table>\n",
              "</div>\n",
              "      <button class=\"colab-df-convert\" onclick=\"convertToInteractive('df-dbab4f92-5561-475e-9c19-54640e954f5a')\"\n",
              "              title=\"Convert this dataframe to an interactive table.\"\n",
              "              style=\"display:none;\">\n",
              "        \n",
              "  <svg xmlns=\"http://www.w3.org/2000/svg\" height=\"24px\"viewBox=\"0 0 24 24\"\n",
              "       width=\"24px\">\n",
              "    <path d=\"M0 0h24v24H0V0z\" fill=\"none\"/>\n",
              "    <path d=\"M18.56 5.44l.94 2.06.94-2.06 2.06-.94-2.06-.94-.94-2.06-.94 2.06-2.06.94zm-11 1L8.5 8.5l.94-2.06 2.06-.94-2.06-.94L8.5 2.5l-.94 2.06-2.06.94zm10 10l.94 2.06.94-2.06 2.06-.94-2.06-.94-.94-2.06-.94 2.06-2.06.94z\"/><path d=\"M17.41 7.96l-1.37-1.37c-.4-.4-.92-.59-1.43-.59-.52 0-1.04.2-1.43.59L10.3 9.45l-7.72 7.72c-.78.78-.78 2.05 0 2.83L4 21.41c.39.39.9.59 1.41.59.51 0 1.02-.2 1.41-.59l7.78-7.78 2.81-2.81c.8-.78.8-2.07 0-2.86zM5.41 20L4 18.59l7.72-7.72 1.47 1.35L5.41 20z\"/>\n",
              "  </svg>\n",
              "      </button>\n",
              "      \n",
              "  <style>\n",
              "    .colab-df-container {\n",
              "      display:flex;\n",
              "      flex-wrap:wrap;\n",
              "      gap: 12px;\n",
              "    }\n",
              "\n",
              "    .colab-df-convert {\n",
              "      background-color: #E8F0FE;\n",
              "      border: none;\n",
              "      border-radius: 50%;\n",
              "      cursor: pointer;\n",
              "      display: none;\n",
              "      fill: #1967D2;\n",
              "      height: 32px;\n",
              "      padding: 0 0 0 0;\n",
              "      width: 32px;\n",
              "    }\n",
              "\n",
              "    .colab-df-convert:hover {\n",
              "      background-color: #E2EBFA;\n",
              "      box-shadow: 0px 1px 2px rgba(60, 64, 67, 0.3), 0px 1px 3px 1px rgba(60, 64, 67, 0.15);\n",
              "      fill: #174EA6;\n",
              "    }\n",
              "\n",
              "    [theme=dark] .colab-df-convert {\n",
              "      background-color: #3B4455;\n",
              "      fill: #D2E3FC;\n",
              "    }\n",
              "\n",
              "    [theme=dark] .colab-df-convert:hover {\n",
              "      background-color: #434B5C;\n",
              "      box-shadow: 0px 1px 3px 1px rgba(0, 0, 0, 0.15);\n",
              "      filter: drop-shadow(0px 1px 2px rgba(0, 0, 0, 0.3));\n",
              "      fill: #FFFFFF;\n",
              "    }\n",
              "  </style>\n",
              "\n",
              "      <script>\n",
              "        const buttonEl =\n",
              "          document.querySelector('#df-dbab4f92-5561-475e-9c19-54640e954f5a button.colab-df-convert');\n",
              "        buttonEl.style.display =\n",
              "          google.colab.kernel.accessAllowed ? 'block' : 'none';\n",
              "\n",
              "        async function convertToInteractive(key) {\n",
              "          const element = document.querySelector('#df-dbab4f92-5561-475e-9c19-54640e954f5a');\n",
              "          const dataTable =\n",
              "            await google.colab.kernel.invokeFunction('convertToInteractive',\n",
              "                                                     [key], {});\n",
              "          if (!dataTable) return;\n",
              "\n",
              "          const docLinkHtml = 'Like what you see? Visit the ' +\n",
              "            '<a target=\"_blank\" href=https://colab.research.google.com/notebooks/data_table.ipynb>data table notebook</a>'\n",
              "            + ' to learn more about interactive tables.';\n",
              "          element.innerHTML = '';\n",
              "          dataTable['output_type'] = 'display_data';\n",
              "          await google.colab.output.renderOutput(dataTable, element);\n",
              "          const docLink = document.createElement('div');\n",
              "          docLink.innerHTML = docLinkHtml;\n",
              "          element.appendChild(docLink);\n",
              "        }\n",
              "      </script>\n",
              "    </div>\n",
              "  </div>\n",
              "  "
            ]
          },
          "metadata": {},
          "execution_count": 118
        }
      ]
    },
    {
      "cell_type": "code",
      "source": [
        ""
      ],
      "metadata": {
        "id": "kL9vfQGYsRyE"
      },
      "execution_count": null,
      "outputs": []
    },
    {
      "cell_type": "code",
      "source": [
        ""
      ],
      "metadata": {
        "id": "jrpdMFXgsRuI"
      },
      "execution_count": null,
      "outputs": []
    },
    {
      "cell_type": "code",
      "source": [
        ""
      ],
      "metadata": {
        "id": "ZXWgWmQ6sRsB"
      },
      "execution_count": null,
      "outputs": []
    }
  ]
}