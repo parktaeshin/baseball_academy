{
  "nbformat": 4,
  "nbformat_minor": 0,
  "metadata": {
    "colab": {
      "name": "Untitled0.ipynb",
      "provenance": [],
      "mount_file_id": "1JRlkVLa-4t5vo1ST2H1bKtRBBgAnTrir",
      "authorship_tag": "ABX9TyP8g8PxGWakV9KPtXOsABJV",
      "include_colab_link": true
    },
    "kernelspec": {
      "name": "python3",
      "display_name": "Python 3"
    },
    "language_info": {
      "name": "python"
    }
  },
  "cells": [
    {
      "cell_type": "markdown",
      "metadata": {
        "id": "view-in-github",
        "colab_type": "text"
      },
      "source": [
        "<a href=\"https://colab.research.google.com/github/parktaeshin/baseball_academy/blob/main/Untitled0.ipynb\" target=\"_parent\"><img src=\"https://colab.research.google.com/assets/colab-badge.svg\" alt=\"Open In Colab\"/></a>"
      ]
    },
    {
      "cell_type": "code",
      "execution_count": 1,
      "metadata": {
        "id": "bTjUMzI_aM6z"
      },
      "outputs": [],
      "source": [
        "import numpy as np\n",
        "import pandas as pd"
      ]
    },
    {
      "cell_type": "code",
      "source": [
        "pd.set_option('display.max_columns', None) # 컬럼 수가 많으므로 요약되어 표시되지 않게 함\n",
        "pd.set_option('display.max_rows', 30) #  행 수가 많으므로 요약되어 표시되지 않게 함"
      ],
      "metadata": {
        "id": "u5_JIP8nm9hB"
      },
      "execution_count": 2,
      "outputs": []
    },
    {
      "cell_type": "code",
      "source": [
        "df = pd.read_excel(\"/content/drive/MyDrive/야구아카데미/1주차/data.xlsx\",engine = \"openpyxl\")"
      ],
      "metadata": {
        "id": "DfiZUnxvaRpQ"
      },
      "execution_count": 3,
      "outputs": []
    },
    {
      "cell_type": "code",
      "source": [
        "result = pd.read_excel(\"/content/drive/MyDrive/야구아카데미/1주차/result.xlsx\", engine = \"openpyxl\")\n",
        "result"
      ],
      "metadata": {
        "colab": {
          "base_uri": "https://localhost:8080/",
          "height": 113
        },
        "id": "1_rFzZidecsB",
        "outputId": "f82bc5ce-c938-4e0c-b7f1-96f5b753e5e1"
      },
      "execution_count": 4,
      "outputs": [
        {
          "output_type": "execute_result",
          "data": {
            "text/plain": [
              "Empty DataFrame\n",
              "Columns: [Int_Year, Int_Month, Int_Day, Str_Opp.Team, Int_Inning, Int_InningTopOrBottom, Str_Pitcher, Int_BattingOrder, Str_Batter, int_batter_no, Cnt_strike, Cnt_ball, Str_Result, Str_IncludeError, Str_Defender, Int_BeforeCntOut, Int_BeforeOnBase, Int_BeforeHomeScore, Int_BeforeAwayScore, Int_AfterCntOut, Int_AfterOnBase, Int_AfterHomeScore, Int_AfterAwayScore, IntStar_Dif.HomeScore, IntStar_Dif.AwayScore, Sum_Score]\n",
              "Index: []"
            ],
            "text/html": [
              "\n",
              "  <div id=\"df-0c4ad8e3-387d-4fa8-b4f4-b6aab7c53748\">\n",
              "    <div class=\"colab-df-container\">\n",
              "      <div>\n",
              "<style scoped>\n",
              "    .dataframe tbody tr th:only-of-type {\n",
              "        vertical-align: middle;\n",
              "    }\n",
              "\n",
              "    .dataframe tbody tr th {\n",
              "        vertical-align: top;\n",
              "    }\n",
              "\n",
              "    .dataframe thead th {\n",
              "        text-align: right;\n",
              "    }\n",
              "</style>\n",
              "<table border=\"1\" class=\"dataframe\">\n",
              "  <thead>\n",
              "    <tr style=\"text-align: right;\">\n",
              "      <th></th>\n",
              "      <th>Int_Year</th>\n",
              "      <th>Int_Month</th>\n",
              "      <th>Int_Day</th>\n",
              "      <th>Str_Opp.Team</th>\n",
              "      <th>Int_Inning</th>\n",
              "      <th>Int_InningTopOrBottom</th>\n",
              "      <th>Str_Pitcher</th>\n",
              "      <th>Int_BattingOrder</th>\n",
              "      <th>Str_Batter</th>\n",
              "      <th>int_batter_no</th>\n",
              "      <th>Cnt_strike</th>\n",
              "      <th>Cnt_ball</th>\n",
              "      <th>Str_Result</th>\n",
              "      <th>Str_IncludeError</th>\n",
              "      <th>Str_Defender</th>\n",
              "      <th>Int_BeforeCntOut</th>\n",
              "      <th>Int_BeforeOnBase</th>\n",
              "      <th>Int_BeforeHomeScore</th>\n",
              "      <th>Int_BeforeAwayScore</th>\n",
              "      <th>Int_AfterCntOut</th>\n",
              "      <th>Int_AfterOnBase</th>\n",
              "      <th>Int_AfterHomeScore</th>\n",
              "      <th>Int_AfterAwayScore</th>\n",
              "      <th>IntStar_Dif.HomeScore</th>\n",
              "      <th>IntStar_Dif.AwayScore</th>\n",
              "      <th>Sum_Score</th>\n",
              "    </tr>\n",
              "  </thead>\n",
              "  <tbody>\n",
              "  </tbody>\n",
              "</table>\n",
              "</div>\n",
              "      <button class=\"colab-df-convert\" onclick=\"convertToInteractive('df-0c4ad8e3-387d-4fa8-b4f4-b6aab7c53748')\"\n",
              "              title=\"Convert this dataframe to an interactive table.\"\n",
              "              style=\"display:none;\">\n",
              "        \n",
              "  <svg xmlns=\"http://www.w3.org/2000/svg\" height=\"24px\"viewBox=\"0 0 24 24\"\n",
              "       width=\"24px\">\n",
              "    <path d=\"M0 0h24v24H0V0z\" fill=\"none\"/>\n",
              "    <path d=\"M18.56 5.44l.94 2.06.94-2.06 2.06-.94-2.06-.94-.94-2.06-.94 2.06-2.06.94zm-11 1L8.5 8.5l.94-2.06 2.06-.94-2.06-.94L8.5 2.5l-.94 2.06-2.06.94zm10 10l.94 2.06.94-2.06 2.06-.94-2.06-.94-.94-2.06-.94 2.06-2.06.94z\"/><path d=\"M17.41 7.96l-1.37-1.37c-.4-.4-.92-.59-1.43-.59-.52 0-1.04.2-1.43.59L10.3 9.45l-7.72 7.72c-.78.78-.78 2.05 0 2.83L4 21.41c.39.39.9.59 1.41.59.51 0 1.02-.2 1.41-.59l7.78-7.78 2.81-2.81c.8-.78.8-2.07 0-2.86zM5.41 20L4 18.59l7.72-7.72 1.47 1.35L5.41 20z\"/>\n",
              "  </svg>\n",
              "      </button>\n",
              "      \n",
              "  <style>\n",
              "    .colab-df-container {\n",
              "      display:flex;\n",
              "      flex-wrap:wrap;\n",
              "      gap: 12px;\n",
              "    }\n",
              "\n",
              "    .colab-df-convert {\n",
              "      background-color: #E8F0FE;\n",
              "      border: none;\n",
              "      border-radius: 50%;\n",
              "      cursor: pointer;\n",
              "      display: none;\n",
              "      fill: #1967D2;\n",
              "      height: 32px;\n",
              "      padding: 0 0 0 0;\n",
              "      width: 32px;\n",
              "    }\n",
              "\n",
              "    .colab-df-convert:hover {\n",
              "      background-color: #E2EBFA;\n",
              "      box-shadow: 0px 1px 2px rgba(60, 64, 67, 0.3), 0px 1px 3px 1px rgba(60, 64, 67, 0.15);\n",
              "      fill: #174EA6;\n",
              "    }\n",
              "\n",
              "    [theme=dark] .colab-df-convert {\n",
              "      background-color: #3B4455;\n",
              "      fill: #D2E3FC;\n",
              "    }\n",
              "\n",
              "    [theme=dark] .colab-df-convert:hover {\n",
              "      background-color: #434B5C;\n",
              "      box-shadow: 0px 1px 3px 1px rgba(0, 0, 0, 0.15);\n",
              "      filter: drop-shadow(0px 1px 2px rgba(0, 0, 0, 0.3));\n",
              "      fill: #FFFFFF;\n",
              "    }\n",
              "  </style>\n",
              "\n",
              "      <script>\n",
              "        const buttonEl =\n",
              "          document.querySelector('#df-0c4ad8e3-387d-4fa8-b4f4-b6aab7c53748 button.colab-df-convert');\n",
              "        buttonEl.style.display =\n",
              "          google.colab.kernel.accessAllowed ? 'block' : 'none';\n",
              "\n",
              "        async function convertToInteractive(key) {\n",
              "          const element = document.querySelector('#df-0c4ad8e3-387d-4fa8-b4f4-b6aab7c53748');\n",
              "          const dataTable =\n",
              "            await google.colab.kernel.invokeFunction('convertToInteractive',\n",
              "                                                     [key], {});\n",
              "          if (!dataTable) return;\n",
              "\n",
              "          const docLinkHtml = 'Like what you see? Visit the ' +\n",
              "            '<a target=\"_blank\" href=https://colab.research.google.com/notebooks/data_table.ipynb>data table notebook</a>'\n",
              "            + ' to learn more about interactive tables.';\n",
              "          element.innerHTML = '';\n",
              "          dataTable['output_type'] = 'display_data';\n",
              "          await google.colab.output.renderOutput(dataTable, element);\n",
              "          const docLink = document.createElement('div');\n",
              "          docLink.innerHTML = docLinkHtml;\n",
              "          element.appendChild(docLink);\n",
              "        }\n",
              "      </script>\n",
              "    </div>\n",
              "  </div>\n",
              "  "
            ]
          },
          "metadata": {},
          "execution_count": 4
        }
      ]
    },
    {
      "cell_type": "code",
      "source": [
        "df.head(2)"
      ],
      "metadata": {
        "colab": {
          "base_uri": "https://localhost:8080/",
          "height": 278
        },
        "id": "zDkTexiTen69",
        "outputId": "a9065669-7ad2-483c-c749-006ceddead79"
      },
      "execution_count": 5,
      "outputs": [
        {
          "output_type": "execute_result",
          "data": {
            "text/plain": [
              "          날짜   팀  이닝   투수       타자                    P       결과       이전상황  \\\n",
              "0 2019-03-23  한화  2말  서폴드  6 페르난데스  2019-01-03 00:00:00  2루수 병살타  무사 1루 0:0   \n",
              "1 2019-03-23  한화  4말  서폴드  6 페르난데스  2019-01-02 00:00:00   유격수 땅볼     2사 1:2   \n",
              "\n",
              "       이후상황 이전상황.1 Unnamed: 10 Unnamed: 11     결과.1 Unnamed: 13 Unnamed: 14  \\\n",
              "0    2사 0:0     무사          1루         0:0  2루수 병살타     2루수 병살타         NaN   \n",
              "1  이닝종료 1:2     2사         1:2         NaN   유격수 땅볼      유격수 땅볼         NaN   \n",
              "\n",
              "   Unnamed: 15 Unnamed: 16 Unnamed: 17 Unnamed: 18 Unnamed: 19 Unnamed: 20  \n",
              "0          NaN     2루수 병살타         2루수         병살타         NaN         NaN  \n",
              "1          NaN      유격수 땅볼         유격수          땅볼         NaN         NaN  "
            ],
            "text/html": [
              "\n",
              "  <div id=\"df-0a7e19fd-c2f9-4978-afee-d9c5a018188f\">\n",
              "    <div class=\"colab-df-container\">\n",
              "      <div>\n",
              "<style scoped>\n",
              "    .dataframe tbody tr th:only-of-type {\n",
              "        vertical-align: middle;\n",
              "    }\n",
              "\n",
              "    .dataframe tbody tr th {\n",
              "        vertical-align: top;\n",
              "    }\n",
              "\n",
              "    .dataframe thead th {\n",
              "        text-align: right;\n",
              "    }\n",
              "</style>\n",
              "<table border=\"1\" class=\"dataframe\">\n",
              "  <thead>\n",
              "    <tr style=\"text-align: right;\">\n",
              "      <th></th>\n",
              "      <th>날짜</th>\n",
              "      <th>팀</th>\n",
              "      <th>이닝</th>\n",
              "      <th>투수</th>\n",
              "      <th>타자</th>\n",
              "      <th>P</th>\n",
              "      <th>결과</th>\n",
              "      <th>이전상황</th>\n",
              "      <th>이후상황</th>\n",
              "      <th>이전상황.1</th>\n",
              "      <th>Unnamed: 10</th>\n",
              "      <th>Unnamed: 11</th>\n",
              "      <th>결과.1</th>\n",
              "      <th>Unnamed: 13</th>\n",
              "      <th>Unnamed: 14</th>\n",
              "      <th>Unnamed: 15</th>\n",
              "      <th>Unnamed: 16</th>\n",
              "      <th>Unnamed: 17</th>\n",
              "      <th>Unnamed: 18</th>\n",
              "      <th>Unnamed: 19</th>\n",
              "      <th>Unnamed: 20</th>\n",
              "    </tr>\n",
              "  </thead>\n",
              "  <tbody>\n",
              "    <tr>\n",
              "      <th>0</th>\n",
              "      <td>2019-03-23</td>\n",
              "      <td>한화</td>\n",
              "      <td>2말</td>\n",
              "      <td>서폴드</td>\n",
              "      <td>6 페르난데스</td>\n",
              "      <td>2019-01-03 00:00:00</td>\n",
              "      <td>2루수 병살타</td>\n",
              "      <td>무사 1루 0:0</td>\n",
              "      <td>2사 0:0</td>\n",
              "      <td>무사</td>\n",
              "      <td>1루</td>\n",
              "      <td>0:0</td>\n",
              "      <td>2루수 병살타</td>\n",
              "      <td>2루수 병살타</td>\n",
              "      <td>NaN</td>\n",
              "      <td>NaN</td>\n",
              "      <td>2루수 병살타</td>\n",
              "      <td>2루수</td>\n",
              "      <td>병살타</td>\n",
              "      <td>NaN</td>\n",
              "      <td>NaN</td>\n",
              "    </tr>\n",
              "    <tr>\n",
              "      <th>1</th>\n",
              "      <td>2019-03-23</td>\n",
              "      <td>한화</td>\n",
              "      <td>4말</td>\n",
              "      <td>서폴드</td>\n",
              "      <td>6 페르난데스</td>\n",
              "      <td>2019-01-02 00:00:00</td>\n",
              "      <td>유격수 땅볼</td>\n",
              "      <td>2사 1:2</td>\n",
              "      <td>이닝종료 1:2</td>\n",
              "      <td>2사</td>\n",
              "      <td>1:2</td>\n",
              "      <td>NaN</td>\n",
              "      <td>유격수 땅볼</td>\n",
              "      <td>유격수 땅볼</td>\n",
              "      <td>NaN</td>\n",
              "      <td>NaN</td>\n",
              "      <td>유격수 땅볼</td>\n",
              "      <td>유격수</td>\n",
              "      <td>땅볼</td>\n",
              "      <td>NaN</td>\n",
              "      <td>NaN</td>\n",
              "    </tr>\n",
              "  </tbody>\n",
              "</table>\n",
              "</div>\n",
              "      <button class=\"colab-df-convert\" onclick=\"convertToInteractive('df-0a7e19fd-c2f9-4978-afee-d9c5a018188f')\"\n",
              "              title=\"Convert this dataframe to an interactive table.\"\n",
              "              style=\"display:none;\">\n",
              "        \n",
              "  <svg xmlns=\"http://www.w3.org/2000/svg\" height=\"24px\"viewBox=\"0 0 24 24\"\n",
              "       width=\"24px\">\n",
              "    <path d=\"M0 0h24v24H0V0z\" fill=\"none\"/>\n",
              "    <path d=\"M18.56 5.44l.94 2.06.94-2.06 2.06-.94-2.06-.94-.94-2.06-.94 2.06-2.06.94zm-11 1L8.5 8.5l.94-2.06 2.06-.94-2.06-.94L8.5 2.5l-.94 2.06-2.06.94zm10 10l.94 2.06.94-2.06 2.06-.94-2.06-.94-.94-2.06-.94 2.06-2.06.94z\"/><path d=\"M17.41 7.96l-1.37-1.37c-.4-.4-.92-.59-1.43-.59-.52 0-1.04.2-1.43.59L10.3 9.45l-7.72 7.72c-.78.78-.78 2.05 0 2.83L4 21.41c.39.39.9.59 1.41.59.51 0 1.02-.2 1.41-.59l7.78-7.78 2.81-2.81c.8-.78.8-2.07 0-2.86zM5.41 20L4 18.59l7.72-7.72 1.47 1.35L5.41 20z\"/>\n",
              "  </svg>\n",
              "      </button>\n",
              "      \n",
              "  <style>\n",
              "    .colab-df-container {\n",
              "      display:flex;\n",
              "      flex-wrap:wrap;\n",
              "      gap: 12px;\n",
              "    }\n",
              "\n",
              "    .colab-df-convert {\n",
              "      background-color: #E8F0FE;\n",
              "      border: none;\n",
              "      border-radius: 50%;\n",
              "      cursor: pointer;\n",
              "      display: none;\n",
              "      fill: #1967D2;\n",
              "      height: 32px;\n",
              "      padding: 0 0 0 0;\n",
              "      width: 32px;\n",
              "    }\n",
              "\n",
              "    .colab-df-convert:hover {\n",
              "      background-color: #E2EBFA;\n",
              "      box-shadow: 0px 1px 2px rgba(60, 64, 67, 0.3), 0px 1px 3px 1px rgba(60, 64, 67, 0.15);\n",
              "      fill: #174EA6;\n",
              "    }\n",
              "\n",
              "    [theme=dark] .colab-df-convert {\n",
              "      background-color: #3B4455;\n",
              "      fill: #D2E3FC;\n",
              "    }\n",
              "\n",
              "    [theme=dark] .colab-df-convert:hover {\n",
              "      background-color: #434B5C;\n",
              "      box-shadow: 0px 1px 3px 1px rgba(0, 0, 0, 0.15);\n",
              "      filter: drop-shadow(0px 1px 2px rgba(0, 0, 0, 0.3));\n",
              "      fill: #FFFFFF;\n",
              "    }\n",
              "  </style>\n",
              "\n",
              "      <script>\n",
              "        const buttonEl =\n",
              "          document.querySelector('#df-0a7e19fd-c2f9-4978-afee-d9c5a018188f button.colab-df-convert');\n",
              "        buttonEl.style.display =\n",
              "          google.colab.kernel.accessAllowed ? 'block' : 'none';\n",
              "\n",
              "        async function convertToInteractive(key) {\n",
              "          const element = document.querySelector('#df-0a7e19fd-c2f9-4978-afee-d9c5a018188f');\n",
              "          const dataTable =\n",
              "            await google.colab.kernel.invokeFunction('convertToInteractive',\n",
              "                                                     [key], {});\n",
              "          if (!dataTable) return;\n",
              "\n",
              "          const docLinkHtml = 'Like what you see? Visit the ' +\n",
              "            '<a target=\"_blank\" href=https://colab.research.google.com/notebooks/data_table.ipynb>data table notebook</a>'\n",
              "            + ' to learn more about interactive tables.';\n",
              "          element.innerHTML = '';\n",
              "          dataTable['output_type'] = 'display_data';\n",
              "          await google.colab.output.renderOutput(dataTable, element);\n",
              "          const docLink = document.createElement('div');\n",
              "          docLink.innerHTML = docLinkHtml;\n",
              "          element.appendChild(docLink);\n",
              "        }\n",
              "      </script>\n",
              "    </div>\n",
              "  </div>\n",
              "  "
            ]
          },
          "metadata": {},
          "execution_count": 5
        }
      ]
    },
    {
      "cell_type": "code",
      "source": [
        "df.info()"
      ],
      "metadata": {
        "colab": {
          "base_uri": "https://localhost:8080/"
        },
        "id": "0wlXuJohe1k9",
        "outputId": "82d69268-a9fd-401a-b90f-7ded88705297"
      },
      "execution_count": 6,
      "outputs": [
        {
          "output_type": "stream",
          "name": "stdout",
          "text": [
            "<class 'pandas.core.frame.DataFrame'>\n",
            "RangeIndex: 56666 entries, 0 to 56665\n",
            "Data columns (total 21 columns):\n",
            " #   Column       Non-Null Count  Dtype         \n",
            "---  ------       --------------  -----         \n",
            " 0   날짜           56666 non-null  datetime64[ns]\n",
            " 1   팀            56666 non-null  object        \n",
            " 2   이닝           56666 non-null  object        \n",
            " 3   투수           56666 non-null  object        \n",
            " 4   타자           56666 non-null  object        \n",
            " 5   P            56562 non-null  object        \n",
            " 6   결과           56666 non-null  object        \n",
            " 7   이전상황         56665 non-null  object        \n",
            " 8   이후상황         56665 non-null  object        \n",
            " 9   이전상황.1       56665 non-null  object        \n",
            " 10  Unnamed: 10  56665 non-null  object        \n",
            " 11  Unnamed: 11  26673 non-null  object        \n",
            " 12  결과.1         56666 non-null  object        \n",
            " 13  Unnamed: 13  46723 non-null  object        \n",
            " 14  Unnamed: 14  9943 non-null   object        \n",
            " 15  Unnamed: 15  0 non-null      float64       \n",
            " 16  Unnamed: 16  56666 non-null  object        \n",
            " 17  Unnamed: 17  46001 non-null  object        \n",
            " 18  Unnamed: 18  50938 non-null  object        \n",
            " 19  Unnamed: 19  2702 non-null   object        \n",
            " 20  Unnamed: 20  1104 non-null   object        \n",
            "dtypes: datetime64[ns](1), float64(1), object(19)\n",
            "memory usage: 9.1+ MB\n"
          ]
        }
      ]
    },
    {
      "cell_type": "code",
      "source": [
        "# Int_Year, Int_Month, Int_Day\n",
        "\n",
        "result[\"Int_Year\"] = df[\"날짜\"].apply(lambda x : x.year)\n",
        "result[\"Int_Month\"] = df[\"날짜\"].apply(lambda x : x.month)\n",
        "result[\"Int_Day\"] = df[\"날짜\"].apply(lambda x : x.day)"
      ],
      "metadata": {
        "id": "fZIkymbKgxth"
      },
      "execution_count": 7,
      "outputs": []
    },
    {
      "cell_type": "code",
      "source": [
        "# Str_Opp.Team\n",
        "\n",
        "result[\"Str_Opp.Team\"] = df[\"팀\"]"
      ],
      "metadata": {
        "id": "E4Acw_Hlgxo9"
      },
      "execution_count": 8,
      "outputs": []
    },
    {
      "cell_type": "code",
      "source": [
        "# Int_Inning\n",
        "\n",
        "result[\"Int_Inning\"] = df[\"이닝\"].apply(lambda x : x[0])"
      ],
      "metadata": {
        "id": "VnSEzp2IiGWR"
      },
      "execution_count": 9,
      "outputs": []
    },
    {
      "cell_type": "code",
      "source": [
        "# Int_InningTopOrBottom\n",
        "\n",
        "result[\"Int_InningTopOrBottom\"] = df[\"이닝\"].apply(lambda x : x[1])"
      ],
      "metadata": {
        "id": "y__K4s5XijCH"
      },
      "execution_count": 10,
      "outputs": []
    },
    {
      "cell_type": "code",
      "source": [
        "# Str_pitcher\n",
        "\n",
        "result[\"Str_Pitcher\"] = df[\"투수\"]"
      ],
      "metadata": {
        "id": "x9ZA6GgLi6Iv"
      },
      "execution_count": 11,
      "outputs": []
    },
    {
      "cell_type": "code",
      "source": [
        "# Int_BattingOrder\n",
        "\n",
        "result[\"Int_BattingOrder\"] = df[\"타자\"].apply(lambda x : x.split()[0])"
      ],
      "metadata": {
        "id": "Lc77o3eBjWhU"
      },
      "execution_count": 12,
      "outputs": []
    },
    {
      "cell_type": "code",
      "source": [
        "# Str_Batter\n",
        "\n",
        "result[\"Str_Batter\"] = df[\"타자\"].apply(lambda x : x.split()[1])"
      ],
      "metadata": {
        "id": "ngjmtpUEkoz-"
      },
      "execution_count": 13,
      "outputs": []
    },
    {
      "cell_type": "code",
      "source": [
        "# int_batter_no\n",
        "\n",
        "int_batter_no_dict = pd.DataFrame(df[\"타자\"].apply(lambda x : x.split()[1]).unique()).to_dict()[0]  #\n",
        "int_batter_no_dict = {v:k for k,v in int_batter_no_dict.items()}\n",
        "result[\"int_batter_no\"] = df[\"타자\"].apply(lambda x : x.split()[1]).map(int_batter_no_dict)+1\n",
        "\n",
        "# 노시환 112 , 채태인 114 중간에 건너뜀"
      ],
      "metadata": {
        "id": "eIeqvjOFssiv"
      },
      "execution_count": 14,
      "outputs": []
    },
    {
      "cell_type": "code",
      "source": [
        "# Str_IncludeError 수비 에러 여부\n",
        "for i in range(0,len(df)):\n",
        "  if \"실책\" in df[\"결과\"].apply(lambda x : str(x))[i] :\n",
        "    result.loc[i,\"Str_IncludeError\"] = \"실책\"\n",
        "  else : \n",
        "    result.loc[i,\"Str_IncludeError\"] = None\n",
        "\n",
        "# 11분 5초..."
      ],
      "metadata": {
        "id": "Ut1uQ8kDsQvb"
      },
      "execution_count": 53,
      "outputs": []
    },
    {
      "cell_type": "code",
      "source": [
        "# Str_Defender 수비 포지션\n",
        "\n",
        "defender_list = [\"1루수\",\"2루수\",\"3루수\",\"유격수\",\"투수\",\"포수\",\"좌익수\",\"우익수\",\"중견수\"]\n",
        "\n",
        "for i in range(0,len(df)):\n",
        "  if df[\"결과\"].apply(lambda x : x.split()[0])[i] in defender_list :\n",
        "    result.loc[i,\"Str_Defender\"] = df[\"결과\"].apply(lambda x : x.split()[0])[i]\n",
        "  else :\n",
        "    result.loc[i,\"Str_Defender\"] = None\n",
        "\n",
        "# 40분"
      ],
      "metadata": {
        "id": "aptI2mG9DXg6"
      },
      "execution_count": 70,
      "outputs": []
    },
    {
      "cell_type": "code",
      "source": [
        "# Int_BeforeCntOut 결과 전 아웃 카운트\n",
        "\n",
        "out_dict = {\"무사\" : 0,\n",
        "            \"1사\" : 1,\n",
        "            \"2사\" : 2}\n",
        "\n",
        "result[\"Int_BeforeCntOut\"] = df[\"이전상황\"].astype(str).apply(lambda x : x.split()[0]).map(out_dict)\n",
        "\n",
        "         "
      ],
      "metadata": {
        "id": "8qVug8BdTeaW"
      },
      "execution_count": 275,
      "outputs": []
    },
    {
      "cell_type": "code",
      "source": [
        "# Int_BeforeOnBase 결과 전 베이스 현황 \n",
        "# 없음 = 0, 1루 = 1, 2루 = 2, 3루 = 3, 12루 = 12, 13루 = 13, 23루 = 23, 만루 = 123\n",
        "\n",
        "before_dict = {\"1루\" : 1, \"2루\" : 2, \"3루\" : 3, \"1,2루\" : 12, \"1,3루\" : 13, \"2,3루\" : 23, \"만루\" : 123}\n",
        "\n",
        "result[\"Int_BeforeOnBase\"] = df[\"Unnamed: 10\"].map(before_dict)\n",
        "result[\"Int_BeforeOnBase\"].fillna(0, inplace = True)\n",
        "\n",
        "#df[\"이전상황\"].astype(str).apply(lambda x : x.split()).apply(lambda x : len(x) == 1)\n",
        "#df.loc[df[\"이전상황\"].astype(str).apply(lambda x : x.split()).apply(lambda x : len(x) == 1)]"
      ],
      "metadata": {
        "id": "IDtAHy6ZTeYF"
      },
      "execution_count": 276,
      "outputs": []
    },
    {
      "cell_type": "code",
      "source": [
        "# Int_BeforeHomeScore 결과 전 홈 점수 현황(홈=투수)\n",
        "\n",
        "result[\"Int_BeforeHomeScore\"] = df[\"이전상황\"].astype(str).apply(lambda x : x.split()[-1]).apply(lambda x : x.split(\":\")[0])"
      ],
      "metadata": {
        "id": "VNSDMMs-FFsK"
      },
      "execution_count": 277,
      "outputs": []
    },
    {
      "cell_type": "code",
      "source": [
        "# Int_BeforeAwayScore 결과 전 어웨이 점수 현화(어웨이 = 타자)\n",
        "result[\"Int_BeforeAwayScore\"] = df[\"이전상황\"].astype(str).apply(lambda x : x.split()[-1]).apply(lambda x : x.split(\":\")[-1])"
      ],
      "metadata": {
        "id": "pyokQeftFFkW"
      },
      "execution_count": 278,
      "outputs": []
    },
    {
      "cell_type": "code",
      "source": [
        "# Int_AfterCntOut 결과 이후 아웃 카운트\n",
        "\n",
        "out_dict = {\"이닝종료\" : 0,\n",
        "            \"1사\" : 1,\n",
        "            \"2사\" : 2}\n",
        "\n",
        "result[\"Int_AfterCntOut\"] = df[\"이후상황\"].astype(str).apply(lambda x : x.split()[0]).map(out_dict)"
      ],
      "metadata": {
        "id": "eZYhgXn0fpbV"
      },
      "execution_count": 279,
      "outputs": []
    },
    {
      "cell_type": "code",
      "source": [
        "# Int_AfterOnBase 결과 이후 베이스 현황\n",
        "\n",
        "df.iloc[56548] = df.iloc[56548].fillna(0)\n",
        "df.loc[56548,\"이후상황\"] = \"0 0\"\n",
        "after_dict = {\"1루\" : 1, \"2루\" : 2, \"3루\" : 3, \"1,2루\" : 12, \"1,3루\" : 13, \"2,3루\" : 23, \"만루\" : 123}\n",
        "\n",
        "result[\"Int_AfterOnBase\"] = df[\"이후상황\"].astype(str).apply(lambda x : x.split()[1]).map(after_dict)\n",
        "result[\"Int_AfterOnBase\"] = result[\"Int_AfterOnBase\"].fillna(0)"
      ],
      "metadata": {
        "id": "w5XAXlxlgYSj"
      },
      "execution_count": 280,
      "outputs": []
    },
    {
      "cell_type": "code",
      "source": [
        "# Int_AfterHomeScore 결과 이후 홈 점수 현황(홈=투수)\n",
        "result[\"Int_AfterHomeScore\"] = df[\"이후상황\"].astype(str).apply(lambda x : x.split()[-1]).apply(lambda x : x.split(\":\")[0])"
      ],
      "metadata": {
        "id": "OJ9XevCrgcCv"
      },
      "execution_count": 281,
      "outputs": []
    },
    {
      "cell_type": "code",
      "source": [
        "# Int_AfterAwayScore 결과 이후 어웨이 점수 현황(어웨이 = 타자)\n",
        "result[\"Int_AfterAwayScore\"] = df[\"이후상황\"].astype(str).apply(lambda x : x.split()[-1]).apply(lambda x : x.split(\":\")[-1])"
      ],
      "metadata": {
        "id": "ergwb6VlghYw"
      },
      "execution_count": 282,
      "outputs": []
    },
    {
      "cell_type": "code",
      "source": [
        "# IntStar_Dif.HomeScore 결과 전후 홈 점수 차이\n",
        "result.iloc[56548] = result.iloc[56548].fillna(0)\n",
        "result.loc[56548,[\"Int_BeforeHomeScore\",\"Int_BeforeAwayScore\",\"Int_AfterHomeScore\",\"Int_AfterAwayScore\"]] = 0\n",
        "result[\"IntStar_Dif.HomeScore\"] = pd.to_numeric(result[\"Int_AfterHomeScore\"]) - pd.to_numeric(result[\"Int_BeforeHomeScore\"])"
      ],
      "metadata": {
        "id": "Qc77OWC3gmuJ"
      },
      "execution_count": 283,
      "outputs": []
    },
    {
      "cell_type": "code",
      "source": [
        "# IntStar_Dif.AwayScore 결과 전후 어웨이 점수 차이\n",
        "result[\"IntStar_Dif.AwayScore\"] = pd.to_numeric(result[\"Int_AfterAwayScore\"]) - pd.to_numeric(result[\"Int_BeforeAwayScore\"])"
      ],
      "metadata": {
        "id": "qGgK-VVzguoE"
      },
      "execution_count": 284,
      "outputs": []
    },
    {
      "cell_type": "code",
      "source": [
        "# Sum_Score 득점 합(홈 어웨이 상관 없음)\n",
        "result[\"Sum_Score\"] = result[\"IntStar_Dif.HomeScore\"] + result[\"IntStar_Dif.AwayScore\"]"
      ],
      "metadata": {
        "id": "qhJH5a2zgx20"
      },
      "execution_count": 285,
      "outputs": []
    },
    {
      "cell_type": "code",
      "source": [
        "#result.to_excel(\"/content/drive/MyDrive/야구아카데미/1주차/backup.xlsx\")\n",
        "backup = pd.read_excel(\"/content/drive/MyDrive/야구아카데미/1주차/backup.xlsx\", engine = \"openpyxl\")"
      ],
      "metadata": {
        "id": "jrpdMFXgsRuI"
      },
      "execution_count": 4,
      "outputs": []
    },
    {
      "cell_type": "code",
      "source": [
        "result = backup.copy()"
      ],
      "metadata": {
        "id": "ieXoC_KkjbwR"
      },
      "execution_count": 5,
      "outputs": []
    },
    {
      "cell_type": "code",
      "source": [
        "# Cnt_strike\n",
        "\n",
        "df[\"ball_count\"] = df[\"P\"].copy()\n",
        "result[\"Cnt_strike\"] = df[\"ball_count\"].astype(str).apply(lambda x : x.replace(\"2019-\",\"\"))\n",
        "result[\"Cnt_strike\"] = result[\"Cnt_strike\"].astype(str).apply(lambda x : x.replace(\" 00:00:00\",\"\"))\n",
        "result[\"Cnt_strike\"] = result[\"Cnt_strike\"].apply(lambda x : x.replace(\"01\",\"1\"))\n",
        "result[\"Cnt_strike\"] = result[\"Cnt_strike\"].apply(lambda x : x.replace(\"02\",\"2\"))\n",
        "result[\"Cnt_strike\"] = result[\"Cnt_strike\"].apply(lambda x : x.replace(\"03\",\"3\"))\n",
        "result[\"Cnt_strike\"] = result[\"Cnt_strike\"].apply(lambda x : x[0])\n"
      ],
      "metadata": {
        "id": "41dM6u4pvB3c"
      },
      "execution_count": 46,
      "outputs": []
    },
    {
      "cell_type": "code",
      "source": [
        "# Cnt_ball\n",
        "df[\"ball_count\"] = df[\"P\"].copy()\n",
        "result[\"Cnt_ball\"] = df[\"ball_count\"].astype(str).apply(lambda x : x.replace(\"2019-\",\"\"))\n",
        "result[\"Cnt_ball\"] = result[\"Cnt_ball\"].astype(str).apply(lambda x : x.replace(\" 00:00:00\",\"\"))\n",
        "result[\"Cnt_ball\"] = result[\"Cnt_ball\"].apply(lambda x : x.replace(\"01\",\"1\"))\n",
        "result[\"Cnt_ball\"] = result[\"Cnt_ball\"].apply(lambda x : x.replace(\"02\",\"2\"))\n",
        "result[\"Cnt_ball\"] = result[\"Cnt_ball\"].apply(lambda x : x.replace(\"03\",\"3\"))\n",
        "result[\"Cnt_ball\"] = result[\"Cnt_ball\"].apply(lambda x : x[2])"
      ],
      "metadata": {
        "id": "aXwaQnP0vEwM"
      },
      "execution_count": 48,
      "outputs": []
    },
    {
      "cell_type": "code",
      "source": [
        "# Str_Result\n",
        "# 2루타, 3루타, 견제사, 고의4구, 내야안타, 도루, 땅볼, 뜬공, 몸에맞는볼, 번트, 번트땅볼, 번트병살타\n",
        "# 번트아웃, 번트안타, 번트야수선택, 번트파울뜬공, 병살타, 보크, 볼넷, 삼중살, 삼진, 삼진아웃, 스트라이크낫아웃출루,쓰리번트아웃\n",
        "# 안타, 야수선택, 야수선택(희번), 인필드뜬공, 직선타, 직선타아웃, 타격방해, 타구맞음, 파울뜬공, 포일, 폭투, 플라이, 홈런, 홈런(그라운드)\n",
        "# 희생번트, 희생플라이\n",
        "# 40개\n",
        "\n",
        "result[\"Str_Result\"] = df[\"결과\"].copy()\n",
        "\n",
        "# [실책포함] 제거\n",
        "result[\"Str_Result\"] = result[\"Str_Result\"].apply(lambda x : x.replace(\"[실책포함]\", \"\"))\n",
        "\n",
        "# 페르난데스/13927 이런거 제거\n",
        "result[\"Str_Result\"] = result[\"Str_Result\"].apply(lambda x : x.split(\":\")[1] if \":\" in x else x)"
      ],
      "metadata": {
        "id": "FL_1o_Xuk_hy"
      },
      "execution_count": 50,
      "outputs": []
    },
    {
      "cell_type": "code",
      "source": [
        "# 양쪽 여백 제거\n",
        "result[\"Str_Result\"] = result[\"Str_Result\"].astype(str).apply(lambda x : x.strip())"
      ],
      "metadata": {
        "id": "eLx8JC-g9lHL"
      },
      "execution_count": 96,
      "outputs": []
    },
    {
      "cell_type": "code",
      "source": [
        "# * 제거\n",
        "result[\"Str_Result\"] = result[\"Str_Result\"].astype(str).apply(lambda x : x.replace(\"*\",\"\"))"
      ],
      "metadata": {
        "id": "ej-S-kHY_k-e"
      },
      "execution_count": 99,
      "outputs": []
    },
    {
      "cell_type": "code",
      "source": [
        "# (이재원/10082) 제거\n",
        "# 괄호안에 무슨 문자가 있든 괄호 제거할 수 있는 방법이 있나?\n",
        "result[\"Str_Result\"] = result[\"Str_Result\"].astype(str).apply(lambda x : x.replace(\"(이재원/10082)\",\"\"))"
      ],
      "metadata": {
        "id": "swUTLk88_3Gx"
      },
      "execution_count": 101,
      "outputs": []
    },
    {
      "cell_type": "code",
      "source": [
        "# 실책 제거\n",
        "result[\"Str_Result\"] = result[\"Str_Result\"].astype(str).apply(lambda x : x.replace(\"실책\",\"\"))"
      ],
      "metadata": {
        "id": "338f8SAvAQ03"
      },
      "execution_count": 103,
      "outputs": []
    },
    {
      "cell_type": "code",
      "source": [
        "# 삼진 아웃 => 삼진아웃\n",
        "result[\"Str_Result\"] = result[\"Str_Result\"].astype(str).apply(lambda x : x.replace(\"삼진 아웃\",\"삼진아웃\"))"
      ],
      "metadata": {
        "id": "m3aizGzuAygs"
      },
      "execution_count": 105,
      "outputs": []
    },
    {
      "cell_type": "code",
      "source": [
        "# 몸에 맞는 볼 => 몸에맞는볼\n",
        "result[\"Str_Result\"] = result[\"Str_Result\"].astype(str).apply(lambda x : x.replace(\"몸에 맞는 볼\",\"몸에맞는볼\"))"
      ],
      "metadata": {
        "id": "xWBCmmx4BURz"
      },
      "execution_count": 107,
      "outputs": []
    },
    {
      "cell_type": "code",
      "source": [
        "# 몸에 맞는 볼 => 몸에맞는볼\n",
        "result[\"Str_Result\"] = result[\"Str_Result\"].astype(str).apply(lambda x : x.replace(\"몸에 맞는 볼\",\"몸에맞는볼\"))"
      ],
      "metadata": {
        "id": "OZzKbqRHBcmB"
      },
      "execution_count": 108,
      "outputs": []
    },
    {
      "cell_type": "code",
      "source": [
        "# 쓰리번트 아웃 => 쓰리번트아웃\n",
        "result[\"Str_Result\"] = result[\"Str_Result\"].astype(str).apply(lambda x : x.replace(\"쓰리번트 아웃\",\"쓰리번트아웃\"))"
      ],
      "metadata": {
        "id": "xoHlwsUGBnDR"
      },
      "execution_count": 109,
      "outputs": []
    },
    {
      "cell_type": "code",
      "source": [
        "# 그라운드 홈런 => 홈런(그라운드)\n",
        "result[\"Str_Result\"] = result[\"Str_Result\"].astype(str).apply(lambda x : x.replace(\"그라운드 홈런\",\"홈런(그라운드)\"))"
      ],
      "metadata": {
        "id": "G-7fk8zyCAez"
      },
      "execution_count": 111,
      "outputs": []
    },
    {
      "cell_type": "code",
      "source": [
        "# 공백으로 구분했을 때, 길이 2이상인 것은 첫번째 drop\n",
        "result[\"Str_Result\"] = result[\"Str_Result\"].apply(lambda x : x.split()[1:] if len(x.split()) > 1 else x)"
      ],
      "metadata": {
        "id": "zR-JCJDCDAwl"
      },
      "execution_count": 127,
      "outputs": []
    },
    {
      "cell_type": "code",
      "source": [
        "# 리스트 형 문자열로 변환\n",
        "result[\"Str_Result\"] = result[\"Str_Result\"].apply(lambda x : \"\".join(x)) "
      ],
      "metadata": {
        "id": "1ayrhDNcFM_K"
      },
      "execution_count": 146,
      "outputs": []
    },
    {
      "cell_type": "code",
      "source": [
        "len(result[\"Str_Result\"].value_counts())"
      ],
      "metadata": {
        "colab": {
          "base_uri": "https://localhost:8080/"
        },
        "id": "OICkkeF7Ej-I",
        "outputId": "b68d5497-3923-4715-ae67-7d099b961a4a"
      },
      "execution_count": 149,
      "outputs": [
        {
          "output_type": "execute_result",
          "data": {
            "text/plain": [
              "40"
            ]
          },
          "metadata": {},
          "execution_count": 149
        }
      ]
    },
    {
      "cell_type": "code",
      "source": [
        "result.drop(\"Unnamed: 0\", axis = 1,inplace = True)"
      ],
      "metadata": {
        "id": "YbhBsmJYH-4o"
      },
      "execution_count": 154,
      "outputs": []
    },
    {
      "cell_type": "code",
      "source": [
        "result.head(3)"
      ],
      "metadata": {
        "colab": {
          "base_uri": "https://localhost:8080/",
          "height": 207
        },
        "id": "tOAbpq2tIYF7",
        "outputId": "a5501631-6442-4b6c-92ba-1c10c9931797"
      },
      "execution_count": 155,
      "outputs": [
        {
          "output_type": "execute_result",
          "data": {
            "text/plain": [
              "   Int_Year  Int_Month  Int_Day Str_Opp.Team  Int_Inning  \\\n",
              "0      2019          3       23           한화           2   \n",
              "1      2019          3       23           한화           4   \n",
              "2      2019          3       23           한화           6   \n",
              "\n",
              "  Int_InningTopOrBottom Str_Pitcher  Int_BattingOrder Str_Batter  \\\n",
              "0                     말         서폴드                 6      페르난데스   \n",
              "1                     말         서폴드                 6      페르난데스   \n",
              "2                     말         서폴드                 6      페르난데스   \n",
              "\n",
              "   int_batter_no Cnt_strike Cnt_ball Str_Result Str_IncludeError Str_Defender  \\\n",
              "0              1          1        3        병살타              NaN          2루수   \n",
              "1              1          1        2         땅볼              NaN          유격수   \n",
              "2              1          2        3         안타              NaN          우익수   \n",
              "\n",
              "   Int_BeforeCntOut  Int_BeforeOnBase  Int_BeforeHomeScore  \\\n",
              "0                 0                 1                    0   \n",
              "1                 2                 0                    1   \n",
              "2                 2                12                    2   \n",
              "\n",
              "   Int_BeforeAwayScore  Int_AfterCntOut  Int_AfterOnBase  Int_AfterHomeScore  \\\n",
              "0                    0              2.0                0                   0   \n",
              "1                    2              0.0                0                   1   \n",
              "2                    2              2.0               13                   2   \n",
              "\n",
              "   Int_AfterAwayScore  IntStar_Dif.HomeScore  IntStar_Dif.AwayScore  Sum_Score  \n",
              "0                   0                      0                      0          0  \n",
              "1                   2                      0                      0          0  \n",
              "2                   3                      0                      1          1  "
            ],
            "text/html": [
              "\n",
              "  <div id=\"df-4dea9882-84be-4846-ab30-e4dca3a27017\">\n",
              "    <div class=\"colab-df-container\">\n",
              "      <div>\n",
              "<style scoped>\n",
              "    .dataframe tbody tr th:only-of-type {\n",
              "        vertical-align: middle;\n",
              "    }\n",
              "\n",
              "    .dataframe tbody tr th {\n",
              "        vertical-align: top;\n",
              "    }\n",
              "\n",
              "    .dataframe thead th {\n",
              "        text-align: right;\n",
              "    }\n",
              "</style>\n",
              "<table border=\"1\" class=\"dataframe\">\n",
              "  <thead>\n",
              "    <tr style=\"text-align: right;\">\n",
              "      <th></th>\n",
              "      <th>Int_Year</th>\n",
              "      <th>Int_Month</th>\n",
              "      <th>Int_Day</th>\n",
              "      <th>Str_Opp.Team</th>\n",
              "      <th>Int_Inning</th>\n",
              "      <th>Int_InningTopOrBottom</th>\n",
              "      <th>Str_Pitcher</th>\n",
              "      <th>Int_BattingOrder</th>\n",
              "      <th>Str_Batter</th>\n",
              "      <th>int_batter_no</th>\n",
              "      <th>Cnt_strike</th>\n",
              "      <th>Cnt_ball</th>\n",
              "      <th>Str_Result</th>\n",
              "      <th>Str_IncludeError</th>\n",
              "      <th>Str_Defender</th>\n",
              "      <th>Int_BeforeCntOut</th>\n",
              "      <th>Int_BeforeOnBase</th>\n",
              "      <th>Int_BeforeHomeScore</th>\n",
              "      <th>Int_BeforeAwayScore</th>\n",
              "      <th>Int_AfterCntOut</th>\n",
              "      <th>Int_AfterOnBase</th>\n",
              "      <th>Int_AfterHomeScore</th>\n",
              "      <th>Int_AfterAwayScore</th>\n",
              "      <th>IntStar_Dif.HomeScore</th>\n",
              "      <th>IntStar_Dif.AwayScore</th>\n",
              "      <th>Sum_Score</th>\n",
              "    </tr>\n",
              "  </thead>\n",
              "  <tbody>\n",
              "    <tr>\n",
              "      <th>0</th>\n",
              "      <td>2019</td>\n",
              "      <td>3</td>\n",
              "      <td>23</td>\n",
              "      <td>한화</td>\n",
              "      <td>2</td>\n",
              "      <td>말</td>\n",
              "      <td>서폴드</td>\n",
              "      <td>6</td>\n",
              "      <td>페르난데스</td>\n",
              "      <td>1</td>\n",
              "      <td>1</td>\n",
              "      <td>3</td>\n",
              "      <td>병살타</td>\n",
              "      <td>NaN</td>\n",
              "      <td>2루수</td>\n",
              "      <td>0</td>\n",
              "      <td>1</td>\n",
              "      <td>0</td>\n",
              "      <td>0</td>\n",
              "      <td>2.0</td>\n",
              "      <td>0</td>\n",
              "      <td>0</td>\n",
              "      <td>0</td>\n",
              "      <td>0</td>\n",
              "      <td>0</td>\n",
              "      <td>0</td>\n",
              "    </tr>\n",
              "    <tr>\n",
              "      <th>1</th>\n",
              "      <td>2019</td>\n",
              "      <td>3</td>\n",
              "      <td>23</td>\n",
              "      <td>한화</td>\n",
              "      <td>4</td>\n",
              "      <td>말</td>\n",
              "      <td>서폴드</td>\n",
              "      <td>6</td>\n",
              "      <td>페르난데스</td>\n",
              "      <td>1</td>\n",
              "      <td>1</td>\n",
              "      <td>2</td>\n",
              "      <td>땅볼</td>\n",
              "      <td>NaN</td>\n",
              "      <td>유격수</td>\n",
              "      <td>2</td>\n",
              "      <td>0</td>\n",
              "      <td>1</td>\n",
              "      <td>2</td>\n",
              "      <td>0.0</td>\n",
              "      <td>0</td>\n",
              "      <td>1</td>\n",
              "      <td>2</td>\n",
              "      <td>0</td>\n",
              "      <td>0</td>\n",
              "      <td>0</td>\n",
              "    </tr>\n",
              "    <tr>\n",
              "      <th>2</th>\n",
              "      <td>2019</td>\n",
              "      <td>3</td>\n",
              "      <td>23</td>\n",
              "      <td>한화</td>\n",
              "      <td>6</td>\n",
              "      <td>말</td>\n",
              "      <td>서폴드</td>\n",
              "      <td>6</td>\n",
              "      <td>페르난데스</td>\n",
              "      <td>1</td>\n",
              "      <td>2</td>\n",
              "      <td>3</td>\n",
              "      <td>안타</td>\n",
              "      <td>NaN</td>\n",
              "      <td>우익수</td>\n",
              "      <td>2</td>\n",
              "      <td>12</td>\n",
              "      <td>2</td>\n",
              "      <td>2</td>\n",
              "      <td>2.0</td>\n",
              "      <td>13</td>\n",
              "      <td>2</td>\n",
              "      <td>3</td>\n",
              "      <td>0</td>\n",
              "      <td>1</td>\n",
              "      <td>1</td>\n",
              "    </tr>\n",
              "  </tbody>\n",
              "</table>\n",
              "</div>\n",
              "      <button class=\"colab-df-convert\" onclick=\"convertToInteractive('df-4dea9882-84be-4846-ab30-e4dca3a27017')\"\n",
              "              title=\"Convert this dataframe to an interactive table.\"\n",
              "              style=\"display:none;\">\n",
              "        \n",
              "  <svg xmlns=\"http://www.w3.org/2000/svg\" height=\"24px\"viewBox=\"0 0 24 24\"\n",
              "       width=\"24px\">\n",
              "    <path d=\"M0 0h24v24H0V0z\" fill=\"none\"/>\n",
              "    <path d=\"M18.56 5.44l.94 2.06.94-2.06 2.06-.94-2.06-.94-.94-2.06-.94 2.06-2.06.94zm-11 1L8.5 8.5l.94-2.06 2.06-.94-2.06-.94L8.5 2.5l-.94 2.06-2.06.94zm10 10l.94 2.06.94-2.06 2.06-.94-2.06-.94-.94-2.06-.94 2.06-2.06.94z\"/><path d=\"M17.41 7.96l-1.37-1.37c-.4-.4-.92-.59-1.43-.59-.52 0-1.04.2-1.43.59L10.3 9.45l-7.72 7.72c-.78.78-.78 2.05 0 2.83L4 21.41c.39.39.9.59 1.41.59.51 0 1.02-.2 1.41-.59l7.78-7.78 2.81-2.81c.8-.78.8-2.07 0-2.86zM5.41 20L4 18.59l7.72-7.72 1.47 1.35L5.41 20z\"/>\n",
              "  </svg>\n",
              "      </button>\n",
              "      \n",
              "  <style>\n",
              "    .colab-df-container {\n",
              "      display:flex;\n",
              "      flex-wrap:wrap;\n",
              "      gap: 12px;\n",
              "    }\n",
              "\n",
              "    .colab-df-convert {\n",
              "      background-color: #E8F0FE;\n",
              "      border: none;\n",
              "      border-radius: 50%;\n",
              "      cursor: pointer;\n",
              "      display: none;\n",
              "      fill: #1967D2;\n",
              "      height: 32px;\n",
              "      padding: 0 0 0 0;\n",
              "      width: 32px;\n",
              "    }\n",
              "\n",
              "    .colab-df-convert:hover {\n",
              "      background-color: #E2EBFA;\n",
              "      box-shadow: 0px 1px 2px rgba(60, 64, 67, 0.3), 0px 1px 3px 1px rgba(60, 64, 67, 0.15);\n",
              "      fill: #174EA6;\n",
              "    }\n",
              "\n",
              "    [theme=dark] .colab-df-convert {\n",
              "      background-color: #3B4455;\n",
              "      fill: #D2E3FC;\n",
              "    }\n",
              "\n",
              "    [theme=dark] .colab-df-convert:hover {\n",
              "      background-color: #434B5C;\n",
              "      box-shadow: 0px 1px 3px 1px rgba(0, 0, 0, 0.15);\n",
              "      filter: drop-shadow(0px 1px 2px rgba(0, 0, 0, 0.3));\n",
              "      fill: #FFFFFF;\n",
              "    }\n",
              "  </style>\n",
              "\n",
              "      <script>\n",
              "        const buttonEl =\n",
              "          document.querySelector('#df-4dea9882-84be-4846-ab30-e4dca3a27017 button.colab-df-convert');\n",
              "        buttonEl.style.display =\n",
              "          google.colab.kernel.accessAllowed ? 'block' : 'none';\n",
              "\n",
              "        async function convertToInteractive(key) {\n",
              "          const element = document.querySelector('#df-4dea9882-84be-4846-ab30-e4dca3a27017');\n",
              "          const dataTable =\n",
              "            await google.colab.kernel.invokeFunction('convertToInteractive',\n",
              "                                                     [key], {});\n",
              "          if (!dataTable) return;\n",
              "\n",
              "          const docLinkHtml = 'Like what you see? Visit the ' +\n",
              "            '<a target=\"_blank\" href=https://colab.research.google.com/notebooks/data_table.ipynb>data table notebook</a>'\n",
              "            + ' to learn more about interactive tables.';\n",
              "          element.innerHTML = '';\n",
              "          dataTable['output_type'] = 'display_data';\n",
              "          await google.colab.output.renderOutput(dataTable, element);\n",
              "          const docLink = document.createElement('div');\n",
              "          docLink.innerHTML = docLinkHtml;\n",
              "          element.appendChild(docLink);\n",
              "        }\n",
              "      </script>\n",
              "    </div>\n",
              "  </div>\n",
              "  "
            ]
          },
          "metadata": {},
          "execution_count": 155
        }
      ]
    }
  ]
}